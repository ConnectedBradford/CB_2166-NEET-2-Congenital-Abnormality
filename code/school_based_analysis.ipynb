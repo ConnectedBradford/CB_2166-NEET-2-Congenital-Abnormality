{
 "cells": [
  {
   "cell_type": "markdown",
   "id": "e6028579-3d07-4740-9e33-5021b30438b0",
   "metadata": {
    "tags": []
   },
   "source": [
    "# School-based Analysis"
   ]
  },
  {
   "cell_type": "raw",
   "id": "330eba78-ee8e-4539-8c40-4a29871bbe27",
   "metadata": {},
   "source": [
    "The objective of this notebook is to understand the educational underpinnings of NEET trajectories."
   ]
  },
  {
   "cell_type": "markdown",
   "id": "faa9ef45-fadb-4f6e-98d8-aa0724b49eb2",
   "metadata": {
    "tags": []
   },
   "source": [
    "## Configuration"
   ]
  },
  {
   "cell_type": "code",
   "execution_count": null,
   "id": "6deb742f-36d4-4138-a0c9-d02ae0bb44b5",
   "metadata": {},
   "outputs": [],
   "source": [
    "# Check free memory available\n",
    "%system free -m"
   ]
  },
  {
   "cell_type": "code",
   "execution_count": null,
   "id": "2c5b43a7-b898-48dc-a11b-b2da605242e9",
   "metadata": {},
   "outputs": [],
   "source": [
    "# Import the necessary libraries\n",
    "\n",
    "# Basic python libraries\n",
    "import os\n",
    "import numpy as np\n",
    "\n",
    "# Data visualization\n",
    "import matplotlib.pyplot as plt\n",
    "import seaborn as sns\n",
    "\n",
    "# Google cloud libraries\n",
    "from google.cloud import bigquery\n",
    "from google.cloud import storage\n",
    "\n",
    "# Pandas and BigQuery\n",
    "import pandas_gbq as pdg\n",
    "import pandas as pd"
   ]
  },
  {
   "cell_type": "code",
   "execution_count": null,
   "id": "b903628f-0789-44b6-a3b5-ba93b62c9d3a",
   "metadata": {},
   "outputs": [],
   "source": [
    "# Current working directory\n",
    "os.getcwd()\n",
    "\n",
    "# Display all columns\n",
    "pd.set_option('display.max_columns', None)"
   ]
  },
  {
   "cell_type": "code",
   "execution_count": null,
   "id": "d13bd7cd-8678-4132-b5cd-f13378e5f07a",
   "metadata": {},
   "outputs": [],
   "source": [
    "# Set output data and output locations\n",
    "raw_data = \"../data/raw/\"\n",
    "interim_data = \"../data/interim/\"\n",
    "processed_data = \"../data/processed/\"\n",
    "\n",
    "figures = \"../reports/figures/\"\n",
    "config = \"../config/\""
   ]
  },
  {
   "cell_type": "markdown",
   "id": "986d10ce-62ee-4266-9564-9ee334b8908e",
   "metadata": {
    "tags": []
   },
   "source": [
    "## Data Loading"
   ]
  },
  {
   "cell_type": "markdown",
   "id": "d6ba4e2e-341b-4649-8e04-82cac37030f9",
   "metadata": {
    "tags": []
   },
   "source": [
    "### neet_chd"
   ]
  },
  {
   "cell_type": "code",
   "execution_count": null,
   "id": "7aaafdac-1451-46c2-ba5d-92d6d31cc840",
   "metadata": {},
   "outputs": [],
   "source": [
    "# Set the filename for your CSV file\n",
    "csv_filename = \"neet_chd.csv\"\n",
    "\n",
    "# Combine the path and filename\n",
    "csv_filepath = os.path.join(processed_data, csv_filename)\n",
    "\n",
    "# Load the CSV file into a DataFrame\n",
    "neet_chd_df = pd.read_csv(csv_filepath)\n",
    "\n",
    "# Display the loaded DataFrame\n",
    "neet_chd_df"
   ]
  },
  {
   "cell_type": "markdown",
   "id": "b9d49c92-6ad1-4bac-956c-5a04e27092c9",
   "metadata": {
    "tags": []
   },
   "source": [
    "## School-based Analysis"
   ]
  },
  {
   "cell_type": "markdown",
   "id": "cf2113df-97cd-4fe1-9911-a007612c048b",
   "metadata": {
    "tags": []
   },
   "source": [
    "### Data Filteration"
   ]
  },
  {
   "cell_type": "code",
   "execution_count": null,
   "id": "f178649a-9d22-4899-b37e-e412930d462d",
   "metadata": {},
   "outputs": [],
   "source": [
    "# Filter the neet_chd_df by 'home_lsoa_in_bradford' and 'la_estab_at_age_15' starting with 380\n",
    "neet_school = neet_chd_df[(neet_chd_df['home_lsoa_in_bradford']) & neet_chd_df[\"la_estab_at_age_15\"].astype(str).str.startswith('380')]\n",
    "\n",
    "# Display the filtered DataFrame\n",
    "neet_school"
   ]
  },
  {
   "cell_type": "markdown",
   "id": "98f4a12a-4c6c-4fac-b8af-c3f1e7e7dbf8",
   "metadata": {
    "tags": []
   },
   "source": [
    "### Count of individuals by Schools in Bradford"
   ]
  },
  {
   "cell_type": "code",
   "execution_count": null,
   "id": "38b3f974-01ad-49db-85ea-327006b11fb3",
   "metadata": {},
   "outputs": [],
   "source": [
    "# Set 'school_code' as the index\n",
    "neet_school = neet_school.set_index('school_code')\n",
    "\n",
    "# Aggregating data by 'school_code' and summing the count of different scenarios separately\n",
    "aggregated_data = neet_school.groupby('school_code').agg(\n",
    "    ever_neet_status=('ever_neet_status', 'sum'),\n",
    "    persistent_neet_status=('persistent_neet_status', 'sum'),\n",
    "    total_persons=('person_id', 'count')\n",
    ").reset_index()\n",
    "\n",
    "# Calculate the percentage of NEET and persistent NEET for each school with 2 decimal places\n",
    "aggregated_data['percentage_ever_neet'] = round((aggregated_data['ever_neet_status'] / aggregated_data['total_persons']) * 100, 2)\n",
    "aggregated_data['percentage_persistent_neet'] = round((aggregated_data['persistent_neet_status'] / aggregated_data['total_persons']) * 100, 2)"
   ]
  },
  {
   "cell_type": "code",
   "execution_count": null,
   "id": "84114772-03fb-49bc-b2a8-3062962a2703",
   "metadata": {},
   "outputs": [],
   "source": [
    "# Rank the schools based on percentage of NEET and persistent NEET\n",
    "aggregated_data = aggregated_data.sort_values(by=['percentage_ever_neet', 'percentage_persistent_neet'], ascending=False)\n",
    "\n",
    "# Display the result\n",
    "aggregated_data"
   ]
  },
  {
   "cell_type": "markdown",
   "id": "f4f81075-9ed1-4d33-8732-628d668acc9b",
   "metadata": {
    "tags": []
   },
   "source": [
    "### Ordered Bar Chart"
   ]
  },
  {
   "cell_type": "code",
   "execution_count": null,
   "id": "85b38df2-b612-4004-8a02-5159b6de55d3",
   "metadata": {},
   "outputs": [],
   "source": [
    "# Extracting data for all schools\n",
    "schools = aggregated_data['school_code']\n",
    "percentage_ever_neet = aggregated_data['percentage_ever_neet']\n",
    "percentage_persistent_neet = aggregated_data['percentage_persistent_neet']\n",
    "\n",
    "# Width of each bar\n",
    "bar_width = 0.4\n",
    "\n",
    "# Generate positions for bars\n",
    "positions = np.arange(len(schools))\n",
    "\n",
    "# Create a figure\n",
    "plt.figure(figsize=(16, 10))\n",
    "\n",
    "# Plotting percentage of ever NEET and persistent NEET side by side\n",
    "plt.bar(positions - bar_width/2, percentage_ever_neet, bar_width, label='Ever NEET')\n",
    "plt.bar(positions + bar_width/2, percentage_persistent_neet, bar_width, color='orange', label='Persistent NEET')\n",
    "\n",
    "# Set x-axis ticks and labels with increased font size\n",
    "plt.xticks(positions, schools, rotation=90, fontsize=14)  # Increased font size\n",
    "\n",
    "# Set labels and title with increased font size\n",
    "plt.xlabel('Schools', fontsize=16)  # Increased font size\n",
    "plt.ylabel('Percentage', fontsize=16)  # Increased font size\n",
    "plt.title('Percentage of Ever NEET and Persistent NEET by School', fontsize=18)\n",
    "\n",
    "# Add legend with increased font size\n",
    "plt.legend(fontsize=14)\n",
    "\n",
    "# Remove the spines (top and right) and set grid lines only on the y-axis\n",
    "plt.gca().spines['top'].set_visible(False)\n",
    "plt.gca().spines['right'].set_visible(False)\n",
    "plt.grid(axis=\"y\", linestyle=\"--\", alpha=0.5)\n",
    "\n",
    "plt.tight_layout()\n",
    "plt.show()"
   ]
  },
  {
   "cell_type": "code",
   "execution_count": null,
   "id": "e6c82ad5-f8e2-4b7e-915f-630efc8448c4",
   "metadata": {},
   "outputs": [],
   "source": []
  }
 ],
 "metadata": {
  "environment": {
   "kernel": "python3",
   "name": ".m112",
   "type": "gcloud",
   "uri": "gcr.io/deeplearning-platform-release/:m112"
  },
  "kernelspec": {
   "display_name": "Python 3",
   "language": "python",
   "name": "python3"
  },
  "language_info": {
   "codemirror_mode": {
    "name": "ipython",
    "version": 3
   },
   "file_extension": ".py",
   "mimetype": "text/x-python",
   "name": "python",
   "nbconvert_exporter": "python",
   "pygments_lexer": "ipython3",
   "version": "3.7.12"
  }
 },
 "nbformat": 4,
 "nbformat_minor": 5
}
