{
 "cells": [
  {
   "cell_type": "markdown",
   "id": "e6028579-3d07-4740-9e33-5021b30438b0",
   "metadata": {},
   "source": [
    "# Exploratory Data Analysis"
   ]
  },
  {
   "cell_type": "raw",
   "id": "330eba78-ee8e-4539-8c40-4a29871bbe27",
   "metadata": {},
   "source": [
    "The objective of this notebook is to explore the prepared data to gain a preliminary insights into the nature of the datasets. "
   ]
  },
  {
   "cell_type": "markdown",
   "id": "faa9ef45-fadb-4f6e-98d8-aa0724b49eb2",
   "metadata": {
    "tags": []
   },
   "source": [
    "## Configuration"
   ]
  },
  {
   "cell_type": "code",
   "execution_count": null,
   "id": "6deb742f-36d4-4138-a0c9-d02ae0bb44b5",
   "metadata": {},
   "outputs": [],
   "source": [
    "# Check free memory available\n",
    "%system free -m"
   ]
  },
  {
   "cell_type": "code",
   "execution_count": null,
   "id": "2c5b43a7-b898-48dc-a11b-b2da605242e9",
   "metadata": {},
   "outputs": [],
   "source": [
    "# Import the necessary libraries\n",
    "\n",
    "# Basic python libraries\n",
    "import os\n",
    "import numpy as np\n",
    "\n",
    "# Data visualization\n",
    "import matplotlib.pyplot as plt\n",
    "import seaborn as sns\n",
    "\n",
    "# Google cloud libraries\n",
    "from google.cloud import bigquery\n",
    "from google.cloud import storage\n",
    "\n",
    "# Pandas and BigQuery\n",
    "import pandas_gbq as pdg\n",
    "import pandas as pd"
   ]
  },
  {
   "cell_type": "code",
   "execution_count": null,
   "id": "b903628f-0789-44b6-a3b5-ba93b62c9d3a",
   "metadata": {},
   "outputs": [],
   "source": [
    "# Current working directory\n",
    "os.getcwd()"
   ]
  },
  {
   "cell_type": "code",
   "execution_count": null,
   "id": "d13bd7cd-8678-4132-b5cd-f13378e5f07a",
   "metadata": {},
   "outputs": [],
   "source": [
    "# Set output data and output locations\n",
    "raw_data = \"../data/raw/\"\n",
    "interim_data = \"../data/interim/\"\n",
    "processed_data = \"../data/processed/\"\n",
    "\n",
    "figure_path = \"../reports/figures/\"\n",
    "config = \"../config/\""
   ]
  },
  {
   "cell_type": "markdown",
   "id": "986d10ce-62ee-4266-9564-9ee334b8908e",
   "metadata": {
    "tags": []
   },
   "source": [
    "## Data Loading"
   ]
  },
  {
   "cell_type": "markdown",
   "id": "aeef27df-f848-4568-b170-0ca9c9dfa7d5",
   "metadata": {
    "tags": []
   },
   "source": [
    "### other_covariates"
   ]
  },
  {
   "cell_type": "code",
   "execution_count": null,
   "id": "778539ad-8eaf-4a10-a73f-194f0b1b3e29",
   "metadata": {},
   "outputs": [],
   "source": [
    "# Set the filename for your CSV file\n",
    "csv_filename = \"other_covariates.csv\"\n",
    "\n",
    "# Combine the path and filename\n",
    "csv_filepath = os.path.join(processed_data, csv_filename)\n",
    "\n",
    "# Load the CSV file into a DataFrame\n",
    "other_covariates_df = pd.read_csv(csv_filepath)\n",
    "\n",
    "# Display the loaded DataFrame\n",
    "other_covariates_df"
   ]
  },
  {
   "cell_type": "markdown",
   "id": "d02f26b6-e14d-457a-ac2a-993f6b1d40ac",
   "metadata": {
    "tags": []
   },
   "source": [
    "### neet_chd"
   ]
  },
  {
   "cell_type": "code",
   "execution_count": null,
   "id": "b3dee472-34cd-46fa-a8db-bf02fc22a4f1",
   "metadata": {},
   "outputs": [],
   "source": [
    "# Set the filename for your CSV file\n",
    "csv_filename = \"neet_chd.csv\"\n",
    "\n",
    "# Combine the path and filename\n",
    "csv_filepath = os.path.join(processed_data, csv_filename)\n",
    "\n",
    "# Load the CSV file into a DataFrame\n",
    "neet_chd_df = pd.read_csv(csv_filepath)\n",
    "\n",
    "# Display the loaded DataFrame\n",
    "neet_chd_df"
   ]
  },
  {
   "cell_type": "markdown",
   "id": "a21346a1-967b-485f-9de1-76545dd49844",
   "metadata": {
    "tags": []
   },
   "source": [
    "## Questions on NEET"
   ]
  },
  {
   "cell_type": "markdown",
   "id": "72454dea-7ab7-4cfb-ad2f-4758dad9ae07",
   "metadata": {
    "tags": []
   },
   "source": [
    "### What is the distribution of NEET in the cohort?"
   ]
  },
  {
   "cell_type": "code",
   "execution_count": null,
   "id": "2f43eece-c65e-4a76-9b4b-ae474a092d41",
   "metadata": {},
   "outputs": [],
   "source": [
    "# NEET status distribution\n",
    "plt.figure(figsize=(8, 6))\n",
    "neet_status_percentages = (neet_chd_df['ever_neet_status'].value_counts() / len(neet_chd_df)) * 100\n",
    "neet_status_percentages.plot(kind='bar', color=\"#66b3ff\")\n",
    "\n",
    "# Add labels and title\n",
    "plt.title(\"Distribution of NEET Status\", fontsize=14)\n",
    "plt.xlabel(\"NEET Status\", fontsize=12)\n",
    "plt.ylabel(\"Percentage\", fontsize=12)\n",
    "\n",
    "# Customize tick labels\n",
    "plt.xticks(rotation=0, fontsize=10)\n",
    "plt.yticks(np.arange(0, 101, 10), fontsize=10)  # Set y-ticks from 0 to 100 in steps of 10\n",
    "\n",
    "# Add value labels on top of each bar\n",
    "for index, value in enumerate(neet_status_percentages):\n",
    "    plt.text(index, value + 1, f'{value:.2f}%', ha=\"center\", fontsize=8)\n",
    "\n",
    "# Set y-axis limit to 100\n",
    "plt.ylim(0, 100)\n",
    "\n",
    "# Remove the spines (top and right) and set grid lines only on the y-axis\n",
    "plt.gca().spines['top'].set_visible(False)\n",
    "plt.gca().spines['right'].set_visible(False)\n",
    "plt.grid(axis=\"y\", linestyle=\"--\", alpha=0.5)\n",
    "\n",
    "# Adjust the layout to prevent x-axis labels from being cut off\n",
    "plt.tight_layout()\n",
    "\n",
    "# Save the figure\n",
    "figure_name = \"neet_percentage_plot.png\"\n",
    "full_path = figure_path + figure_name\n",
    "plt.savefig(full_path)\n",
    "\n",
    "# Display\n",
    "plt.show()"
   ]
  },
  {
   "cell_type": "markdown",
   "id": "8405c0e4-ee88-4b67-8c64-2e7bf6fa9a01",
   "metadata": {
    "tags": []
   },
   "source": [
    "### What is the distribution of NEET in the cohort by gender?"
   ]
  },
  {
   "cell_type": "code",
   "execution_count": null,
   "id": "6e739d45-916c-4103-b84a-e9d61b05e1b9",
   "metadata": {},
   "outputs": [],
   "source": [
    "# NEET status distribution by gender\n",
    "plt.figure(figsize=(12, 8))\n",
    "ax = sns.countplot(x=\"ever_neet_status\", hue=\"majority_gender\", data=neet_chd_df, palette=[\"#66b3ff\", \"#ffb366\", \"#cc99ff\", \"#ffb3e6\"])\n",
    "\n",
    "# Add labels and title\n",
    "plt.title(\"Distribution of NEET Status by Gender\", fontsize=16)\n",
    "plt.xlabel(\"NEET Status\", fontsize=14)\n",
    "plt.ylabel(\"Count\", fontsize=14)\n",
    "\n",
    "# Calculate the total counts for each NEET status to use for calculating percentages\n",
    "total_counts = neet_chd_df.groupby('ever_neet_status').size()\n",
    "\n",
    "# Calculate the total count of true values for NEET status\n",
    "total_true_neet = total_counts[True]\n",
    "\n",
    "# Add percentage value labels on top of each bar\n",
    "for p in ax.patches:\n",
    "    # Get the current count and calculate the percentage\n",
    "    status = p.get_x() + p.get_width() / 2\n",
    "    if status == 1:  # Adjust only for true NEET values\n",
    "        total = total_true_neet\n",
    "    else:\n",
    "        total = total_counts[neet_chd_df['ever_neet_status'].unique()[int(status)]]\n",
    "    percentage = 100 * p.get_height() / total\n",
    "    # Place the annotation on the bar\n",
    "    ax.text(p.get_x() + p.get_width() / 2., p.get_height() + 0.5, '{:1.1f}%'.format(percentage), ha=\"center\", va=\"bottom\", fontsize=10)\n",
    "\n",
    "# Display legend\n",
    "plt.legend(title=\"Gender\", fontsize=12)\n",
    "\n",
    "# Remove the spines (top and right) and set grid lines only on the y-axis\n",
    "sns.despine()\n",
    "plt.grid(axis=\"y\", linestyle=\"--\", alpha=0.5)\n",
    "\n",
    "# Adjust the layout to prevent x-axis labels from being cut off\n",
    "plt.tight_layout()\n",
    "\n",
    "# Save the figure\n",
    "figure_name = \"neet_gender_percentage_plot.png\"\n",
    "full_path = figure_path + figure_name\n",
    "plt.savefig(full_path)\n",
    "\n",
    "# Display the plot\n",
    "plt.show()"
   ]
  },
  {
   "cell_type": "markdown",
   "id": "1ebb757f-637b-4022-8ca1-b2913b473cd0",
   "metadata": {
    "tags": []
   },
   "source": [
    "### What is the distribution of NEET by ethnic group?"
   ]
  },
  {
   "cell_type": "code",
   "execution_count": null,
   "id": "f2ab19e7-9d6a-4f7a-9c2f-be9cf2fd3189",
   "metadata": {},
   "outputs": [],
   "source": [
    "# Merge datasets on 'person_id' to include ethnicity in the neet_congenital_df\n",
    "# Do this operation only once to avoid duplicates\n",
    "merged_df = pd.merge(neet_chd_df, other_covariates_df[['person_id', 'ethnicity']], on='person_id', how='left')\n",
    "merged_df = merged_df.drop_duplicates(subset='person_id')\n",
    "\n",
    "# Calculate NEET proportions by ethnicity\n",
    "ethnicity_neet_counts = merged_df.groupby('ethnicity')['ever_neet_status'].value_counts(normalize=True).unstack() * 100\n",
    "\n",
    "# Sort by NEET (True) in descending order\n",
    "ethnicity_neet_proportions = ethnicity_neet_counts.sort_values(by=True, ascending=False)\n",
    "\n",
    "# Plotting the horizontal bar chart for the NEET proportion of each ethnicity\n",
    "plt.figure(figsize=(10, 8))\n",
    "sns.barplot(y=ethnicity_neet_proportions.index, x=ethnicity_neet_proportions[True], color=\"#66b3ff\", orient='h')\n",
    "plt.title('Distribution of NEET Individuals by Ethnicity')\n",
    "plt.ylabel('Ethnicity')\n",
    "plt.xlabel('Percentage of NEET Individuals (%)')\n",
    "\n",
    "# Annotate the bars with the percentage value\n",
    "for index, value in enumerate(ethnicity_neet_proportions[True]):\n",
    "    plt.text(value, index, f'{value:.2f}%', ha='center', va='center')\n",
    "    \n",
    "# Remove the spines (top and right) and set grid lines only on the x-axis\n",
    "sns.despine()\n",
    "plt.grid(axis=\"x\", linestyle=\"--\", alpha=0.5)\n",
    "\n",
    "plt.tight_layout()  # Adjust layout to fit everything nicely\n",
    "\n",
    "# Save the figure\n",
    "figure_name = \"neet_ethnicity_percentage_plot.png\"\n",
    "full_path = figure_path + figure_name\n",
    "plt.savefig(full_path)\n",
    "\n",
    "# Show the plot\n",
    "plt.show()"
   ]
  },
  {
   "cell_type": "markdown",
   "id": "1485bda7-4376-4eab-9642-93eaf38ce393",
   "metadata": {
    "jp-MarkdownHeadingCollapsed": true,
    "tags": []
   },
   "source": [
    "### What is the proportion of NEET in each academic year?"
   ]
  },
  {
   "cell_type": "code",
   "execution_count": null,
   "id": "2df7cf07-b8d2-4ed5-be14-b32208c53fe2",
   "metadata": {},
   "outputs": [],
   "source": [
    "# NEET status observation by unique person across academic year\n",
    "plt.figure(figsize=(12, 8))\n",
    "\n",
    "# Merge the dataframes on 'person_id'\n",
    "merged_df = pd.merge(neet_chd_df, other_covariates_df, on='person_id', how='inner')\n",
    "\n",
    "# Drop duplicate person_id, neet_yn, academic_year combinations to count unique persons\n",
    "unique_persons_df = merged_df.drop_duplicates(subset=['person_id', 'neet_yn', 'academic_year'])\n",
    "\n",
    "# Calculate the total count of individuals for each academic year\n",
    "academic_year_counts = unique_persons_df['academic_year'].value_counts()\n",
    "\n",
    "# Calculate the count of NEET individuals for each academic year\n",
    "neet_counts = unique_persons_df.groupby('academic_year')['neet_yn'].sum()\n",
    "\n",
    "# Calculate the percentage of NEET individuals for each academic year\n",
    "neet_percentage = (neet_counts / academic_year_counts) * 100\n",
    "\n",
    "# Convert to DataFrame for plotting\n",
    "neet_percentage_df = neet_percentage.reset_index()\n",
    "neet_percentage_df.columns = ['academic_year', 'neet_percentage']\n",
    "\n",
    "# Sort academic years in ascending order\n",
    "neet_percentage_df.sort_values(by='academic_year', inplace=True)\n",
    "\n",
    "ax = sns.barplot(x=\"academic_year\", y=\"neet_percentage\", data=neet_percentage_df, color=\"#66b3ff\")\n",
    "\n",
    "# Add labels and title\n",
    "plt.title(\"Percentage of NEET in each Academic Year\", fontsize=14)\n",
    "plt.xlabel(\"Academic Year\", fontsize=12)\n",
    "plt.ylabel(\"Percentage\", fontsize=12)\n",
    "\n",
    "# Customize tick labels\n",
    "plt.xticks(fontsize=10)\n",
    "plt.yticks(fontsize=10)\n",
    "\n",
    "# Add value labels on top of each bar\n",
    "for p in ax.patches:\n",
    "    height = p.get_height()\n",
    "    plt.text(p.get_x() + p.get_width() / 2, height + 0.5, f\"{height:.2f}%\", ha=\"center\", fontsize=8)\n",
    "\n",
    "# Remove the spines (top and right) and set grid lines only on the y-axis\n",
    "sns.despine()\n",
    "plt.grid(axis=\"y\", linestyle=\"--\", alpha=0.5)\n",
    "\n",
    "# Adjust the layout to prevent x-axis labels from being cut off\n",
    "plt.tight_layout()\n",
    "\n",
    "# Save the figure\n",
    "figure_name = \"neet_academic_year_percentage_plot.png\"\n",
    "full_path = figure_path + figure_name\n",
    "plt.savefig(full_path)\n",
    "\n",
    "# Display\n",
    "plt.show()"
   ]
  },
  {
   "cell_type": "markdown",
   "id": "cf0980c6-3787-49aa-acda-09d7a3dcb2d8",
   "metadata": {
    "jp-MarkdownHeadingCollapsed": true,
    "tags": []
   },
   "source": [
    "### What is the distribution of NEET reasons (activity codes)?"
   ]
  },
  {
   "cell_type": "code",
   "execution_count": null,
   "id": "917dc3de-abfd-4ec8-97f9-2d52e6c0a004",
   "metadata": {},
   "outputs": [],
   "source": [
    "# Filter the DataFrame for True values of neet_yn\n",
    "neet_activity_df = other_covariates_df[other_covariates_df['neet_yn']]\n",
    "\n",
    "# NEET status distribution of current_activity_code for True values only\n",
    "plt.figure(figsize=(12, 6))\n",
    "ax = sns.countplot(x=\"current_activity_code\", data=neet_activity_df, palette=[\"#66b3ff\", \"#ffb366\", \"#cc99ff\", \"#ffb3e6\", \"#99ff99\", \"#ff6666\"])\n",
    "\n",
    "# Add labels and title\n",
    "plt.title(\"Distribution of NEET activity code\", fontsize=14)\n",
    "plt.xlabel(\"Activity Code\", fontsize=12)\n",
    "plt.ylabel(\"Count\", fontsize=12)\n",
    "\n",
    "# Customize tick labels and set them at an angle of 90 degrees\n",
    "plt.xticks(rotation=90, fontsize=8)\n",
    "plt.yticks(fontsize=8)\n",
    "\n",
    "# Add value labels on top of each bar\n",
    "for p in ax.patches:\n",
    "    count = format(int(p.get_height()), \",\")\n",
    "    ax.text(p.get_x() + p.get_width() / 2, p.get_height() + 50, count, ha=\"center\", fontsize=8)\n",
    "\n",
    "# Remove the spines (top and right) and set grid lines only on the y-axis\n",
    "sns.despine()\n",
    "plt.grid(axis=\"y\", linestyle=\"--\", alpha=0.5)\n",
    "\n",
    "# Adjust the layout to prevent x-axis labels from being cut off\n",
    "plt.tight_layout()\n",
    "\n",
    "# Save the figure\n",
    "figure_name = \"neet_reasons_count_plot.png\"\n",
    "full_path = figure_path + figure_name\n",
    "plt.savefig(full_path)\n",
    "\n",
    "# Display\n",
    "plt.show()"
   ]
  },
  {
   "cell_type": "markdown",
   "id": "3bbce017-7009-4430-a803-d5774284c031",
   "metadata": {
    "jp-MarkdownHeadingCollapsed": true,
    "tags": []
   },
   "source": [
    "### What is the distribution of ever_neet_status and persistent_neet_status?"
   ]
  },
  {
   "cell_type": "code",
   "execution_count": null,
   "id": "4639750f-c724-4cb3-b16e-13e390e62f53",
   "metadata": {},
   "outputs": [],
   "source": [
    "# List of columns to consider\n",
    "columns_to_plot = ['ever_neet_status', 'persistent_neet_status']\n",
    "titles = [\"Ever NEET Distribution\", \"Persistent NEET Distribution\"]  # Titles for each subplot\n",
    "\n",
    "# Create subplots for each column\n",
    "fig, axes = plt.subplots(nrows=1, ncols=len(columns_to_plot), figsize=(12, 6))\n",
    "\n",
    "# Check if there's only one column to plot and ensure 'axes' is iterable\n",
    "if len(columns_to_plot) == 1:\n",
    "    axes = [axes]\n",
    "\n",
    "# Iterate through each column and create a bar chart\n",
    "for i, column in enumerate(columns_to_plot):\n",
    "    ax = axes[i]\n",
    "    \n",
    "    # Calculate the percentages of True and False values\n",
    "    total_entries = len(neet_chd_df)\n",
    "    true_percentage = (neet_chd_df[column].sum() / total_entries) * 100\n",
    "    false_percentage = 100 - true_percentage\n",
    "    \n",
    "    # Plot the bar chart for the percentages of True and False values\n",
    "    sns.barplot(x=['False', 'True'], y=[false_percentage, true_percentage], ax=ax, palette=[\"#66b3ff\", \"#ffb366\"])\n",
    "    ax.set_title(titles[i], fontsize=16)\n",
    "    ax.set_ylabel(\"Percentage\", fontsize=14)\n",
    "    \n",
    "    # Set the y-axis to range from 0% to 100%\n",
    "    ax.set_ylim(0, 100)\n",
    "    \n",
    "    # Add percentage annotations on each bar\n",
    "    for bar, percentage in zip(ax.patches, [false_percentage, true_percentage]):\n",
    "        ax.text(bar.get_x() + bar.get_width() / 2, bar.get_height(), f'{percentage:.1f}%',\n",
    "                ha='center', va='bottom', color='black', fontsize=8)\n",
    "\n",
    "    # Remove the spines (top and right) and set grid lines only on the y-axis\n",
    "    sns.despine(ax=ax)\n",
    "    ax.yaxis.grid(True, linestyle='--', alpha=0.5)\n",
    "\n",
    "# Adjust layout\n",
    "plt.tight_layout()\n",
    "\n",
    "# Save the figure\n",
    "figure_name = \"neet_statuses_distribution.png\"\n",
    "full_path = figure_path + figure_name\n",
    "plt.savefig(full_path)\n",
    "\n",
    "# Display\n",
    "plt.show()"
   ]
  },
  {
   "cell_type": "markdown",
   "id": "0fb95962-b240-4ac9-904e-b918111ec574",
   "metadata": {
    "tags": []
   },
   "source": [
    "## Questions on NEET and CHD?"
   ]
  },
  {
   "cell_type": "markdown",
   "id": "8f2e5529-3d30-4ca1-954a-a718013c1731",
   "metadata": {
    "tags": []
   },
   "source": [
    "### What is the count of persons with CHD in the cohort?"
   ]
  },
  {
   "cell_type": "code",
   "execution_count": null,
   "id": "c8a5928d-c951-41e6-8c72-d625cb7280fe",
   "metadata": {},
   "outputs": [],
   "source": [
    "# Bar Chart for Congenital Anomalies distribution\n",
    "plt.figure(figsize=(4, 6))\n",
    "\n",
    "# Use plt.bar with custom x and height values\n",
    "counts = neet_chd_df['snomedcode'].notnull().value_counts()\n",
    "plt.bar([0, 1], counts, color=\"#66b3ff\")\n",
    "\n",
    "# Add labels and title\n",
    "plt.title(\"Congenital Heart Diseases in the Cohort\", fontsize=14)\n",
    "plt.xlabel(\"Congenital Heart Defect\", fontsize=12)\n",
    "plt.ylabel(\"Count\", fontsize=12)\n",
    "\n",
    "# Customize tick labels\n",
    "plt.xticks(ticks=[0, 1], labels=['False', 'True'], fontsize=10)\n",
    "plt.yticks(fontsize=10)\n",
    "\n",
    "# Add value labels on top of each bar\n",
    "for x, count in zip([0, 1], counts):\n",
    "    count_str = format(int(count), \",\")\n",
    "    plt.text(x, count + 50, count_str, ha=\"center\", fontsize=8)\n",
    "\n",
    "# Remove the spines (top and right) and set grid lines only on the y-axis\n",
    "sns.despine()\n",
    "plt.grid(axis=\"y\", linestyle=\"--\", alpha=0.5)\n",
    "\n",
    "# Adjust the layout to prevent x-axis labels from being cut off\n",
    "plt.tight_layout()\n",
    "\n",
    "# Save the figure\n",
    "figure_name = \"congenital_count_plot.png\"\n",
    "full_path = figure_path + figure_name\n",
    "plt.savefig(full_path)\n",
    "\n",
    "# Display\n",
    "plt.show()"
   ]
  },
  {
   "cell_type": "markdown",
   "id": "cd8ff993-54e6-439f-b064-62afe5c5c5e1",
   "metadata": {
    "tags": []
   },
   "source": [
    "### What is the percentage of persons with congenital heart defect in the cohort?"
   ]
  },
  {
   "cell_type": "code",
   "execution_count": null,
   "id": "6e88c0e3-ceca-4873-b9e5-d4cb18a97d9b",
   "metadata": {},
   "outputs": [],
   "source": [
    "# Data for the pie chart\n",
    "total_count = len(neet_chd_df)\n",
    "with_chd_count = neet_chd_df['chd_status'].sum()\n",
    "without_chd_count = total_count - with_chd_count\n",
    "\n",
    "labels = [f'With CHD\\n({with_chd_count})', f'Without CHD\\n({without_chd_count})']\n",
    "sizes = [with_chd_count, without_chd_count]\n",
    "colors = ['#ffb366', '#66b3ff']\n",
    "explode = (0.05, 0)  # Explode the first slice (Persons with Congenital Anomalies)\n",
    "\n",
    "# Plot the pie chart\n",
    "fig, ax = plt.subplots(figsize=(6, 6))\n",
    "ax.pie(sizes, labels=labels, colors=colors, autopct='%1.1f%%', startangle=90, explode=explode)\n",
    "#ax.set_title('Percentage of CHD in the Cohort', fontsize=16) \n",
    "\n",
    "# Save the figure\n",
    "figure_name = \"congenital_pie_chart.png\"\n",
    "full_path = figure_path + figure_name\n",
    "plt.savefig(full_path)\n",
    "\n",
    "# Display\n",
    "plt.show()"
   ]
  },
  {
   "cell_type": "markdown",
   "id": "9f181558-c7fc-4b60-8fef-fd48b69a084a",
   "metadata": {
    "tags": []
   },
   "source": [
    "### What is the proportion of NEET statuses in the CHD and reference groups?"
   ]
  },
  {
   "cell_type": "code",
   "execution_count": null,
   "id": "d953c9ff-d0dd-4215-bafd-1c8136e8da97",
   "metadata": {},
   "outputs": [],
   "source": [
    "# Define a custom color palette\n",
    "custom_palette = {True: '#ffb366', False: '#66b3ff'}\n",
    "\n",
    "# Bar Chart for the distribution of NEET and CHD\n",
    "plt.figure(figsize=(4, 6))\n",
    "ax = sns.countplot(x='chd_status', hue='ever_neet_status', data=neet_chd_df, palette=custom_palette, dodge=True)\n",
    "\n",
    "# Add labels and title\n",
    "plt.title('Ever NEET and CHD Status', fontsize=14)\n",
    "plt.xlabel('CHD Status', fontsize=12)\n",
    "plt.ylabel('Count', fontsize=12)\n",
    "\n",
    "# Customize tick labels\n",
    "plt.xticks(ticks=[0, 1], labels=['Without CHD', 'With CHD'], fontsize=10)\n",
    "plt.yticks(np.arange(0, 90001, 10000), fontsize=10)\n",
    "\n",
    "# Add value labels on top of each bar\n",
    "for p in ax.patches:\n",
    "    count = format(int(p.get_height()), \",\")\n",
    "    plt.text(p.get_x() + p.get_width() / 2, p.get_height() + 50, count, ha=\"center\", fontsize=8)\n",
    "\n",
    "# Add legend with custom labels and colors\n",
    "legend_labels = {True: 'Ever NEET', False: 'Never NEET'}\n",
    "legend_handles = [plt.Line2D([0], [0], marker='o', color='w', markerfacecolor=custom_palette[key], markersize=10) for key in legend_labels.keys()]\n",
    "plt.legend(title='NEET Status', loc='upper right', title_fontsize='10', fontsize='8', labels=legend_labels, handles=legend_handles)\n",
    "\n",
    "# Remove the spines (top and right) and set grid lines only on the y-axis\n",
    "sns.despine()\n",
    "plt.grid(axis=\"y\", linestyle=\"--\", alpha=0.5)\n",
    "\n",
    "# Set the y-axis range from 0 to 90,000\n",
    "plt.ylim(0, 90000)\n",
    "\n",
    "# Adjust the layout to prevent x-axis labels from being cut off\n",
    "plt.tight_layout()\n",
    "\n",
    "# Save the figure\n",
    "figure_name = \"neet_ever_chd_plot.png\"\n",
    "full_path = figure_path + figure_name\n",
    "plt.savefig(full_path)\n",
    "\n",
    "# Display\n",
    "plt.show()"
   ]
  },
  {
   "cell_type": "code",
   "execution_count": null,
   "id": "bac74cb8-5b63-42ee-9acb-12cb66da4711",
   "metadata": {},
   "outputs": [],
   "source": [
    "# Define a custom color palette\n",
    "custom_palette = {True: \"#cc99ff\", False: '#66b3ff'}\n",
    "\n",
    "# Bar Chart for the distribution of NEET and CHD\n",
    "plt.figure(figsize=(4, 6))\n",
    "ax = sns.countplot(x='chd_status', hue='persistent_neet_status', data=neet_chd_df, palette=custom_palette, dodge=True)\n",
    "\n",
    "# Add labels and title\n",
    "plt.title('Persistent NEET and CHD Status', fontsize=14)\n",
    "plt.xlabel('CHD Status', fontsize=12)\n",
    "plt.ylabel('Count', fontsize=12)\n",
    "\n",
    "# Customize tick labels\n",
    "plt.xticks(ticks=[0, 1], labels=['Without CHD', 'With CHD'], fontsize=10)\n",
    "plt.yticks(fontsize=10)\n",
    "\n",
    "# Add value labels on top of each bar\n",
    "for p in ax.patches:\n",
    "    count = format(int(p.get_height()), \",\")\n",
    "    plt.text(p.get_x() + p.get_width() / 2, p.get_height() + 50, count, ha=\"center\", fontsize=8)\n",
    "\n",
    "# Add legend with custom labels and colors\n",
    "legend_labels = {True: 'Persistent NEET', False: 'Never NEET'}\n",
    "legend_handles = [plt.Line2D([0], [0], marker='o', color='w', markerfacecolor=custom_palette[key], markersize=10) for key in legend_labels.keys()]\n",
    "plt.legend(title='NEET Status', loc='upper right', title_fontsize='10', fontsize='8', labels=legend_labels, handles=legend_handles)\n",
    "\n",
    "# Remove the spines (top and right) and set grid lines only on the y-axis\n",
    "sns.despine()\n",
    "plt.grid(axis=\"y\", linestyle=\"--\", alpha=0.5)\n",
    "\n",
    "# Set the y-axis range from 0 to 90,000\n",
    "plt.ylim(0, 90000)\n",
    "\n",
    "# Adjust the layout to prevent x-axis labels from being cut off\n",
    "plt.tight_layout()\n",
    "\n",
    "# Save the figure\n",
    "figure_name = \"neet_persistent_chd_plot.png\"\n",
    "full_path = figure_path + figure_name\n",
    "plt.savefig(full_path)\n",
    "\n",
    "# Display\n",
    "plt.show()"
   ]
  },
  {
   "cell_type": "markdown",
   "id": "067ce119-fc23-4b54-8eae-abb9857e73e4",
   "metadata": {
    "tags": []
   },
   "source": [
    "## Questions on Home LSOA in Bradford?"
   ]
  },
  {
   "cell_type": "markdown",
   "id": "d3144a56-b4b8-4a4c-b1ff-d54f5add3cfa",
   "metadata": {
    "tags": []
   },
   "source": [
    "### What is the count/percentage of individuals in Bradford?"
   ]
  },
  {
   "cell_type": "code",
   "execution_count": null,
   "id": "8fce49c1-9f33-43e0-9dfd-986f71b131d2",
   "metadata": {},
   "outputs": [],
   "source": [
    "# Filter the DataFrame for True values in 'lsoa_bradford'\n",
    "filtered_df = neet_chd_df[neet_chd_df['home_lsoa_in_bradford'] == True]\n",
    "\n",
    "# Calculate the percentage of True values\n",
    "true_percentage = (len(filtered_df) / len(neet_chd_df)) * 100\n",
    "\n",
    "# Create a pie chart\n",
    "plt.figure(figsize=(6, 6))\n",
    "plt.pie([len(neet_chd_df) - len(filtered_df), len(filtered_df)], labels=['False', f'True\\n({len(filtered_df)})'], autopct='%1.2f%%', startangle=90, colors=[\"#66b3ff\", \"#ffb366\"], explode=(0.05, 0))\n",
    "plt.title(\"Percentage and Count of People in Bradford\")\n",
    "\n",
    "# Save the figure\n",
    "figure_name = \"neet_bradford_pie_chart.png\"\n",
    "full_path = figure_path + figure_name\n",
    "plt.savefig(full_path)\n",
    "\n",
    "# Display\n",
    "plt.show()"
   ]
  },
  {
   "cell_type": "code",
   "execution_count": null,
   "id": "3564474b-6993-4687-85f6-4f7d2677110f",
   "metadata": {},
   "outputs": [],
   "source": []
  }
 ],
 "metadata": {
  "environment": {
   "kernel": "python3",
   "name": ".m112",
   "type": "gcloud",
   "uri": "gcr.io/deeplearning-platform-release/:m112"
  },
  "kernelspec": {
   "display_name": "Python 3",
   "language": "python",
   "name": "python3"
  },
  "language_info": {
   "codemirror_mode": {
    "name": "ipython",
    "version": 3
   },
   "file_extension": ".py",
   "mimetype": "text/x-python",
   "name": "python",
   "nbconvert_exporter": "python",
   "pygments_lexer": "ipython3",
   "version": "3.7.12"
  }
 },
 "nbformat": 4,
 "nbformat_minor": 5
}
