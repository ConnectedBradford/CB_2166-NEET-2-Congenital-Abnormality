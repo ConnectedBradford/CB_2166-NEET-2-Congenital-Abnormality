{
 "cells": [
  {
   "cell_type": "markdown",
   "id": "e6028579-3d07-4740-9e33-5021b30438b0",
   "metadata": {
    "tags": []
   },
   "source": [
    "# Spatial Data Analysis"
   ]
  },
  {
   "cell_type": "raw",
   "id": "330eba78-ee8e-4539-8c40-4a29871bbe27",
   "metadata": {},
   "source": [
    "The objective of this notebook is to explore the spatial components of the data to gain more detailed insights into the datasets at a ward level. "
   ]
  },
  {
   "cell_type": "markdown",
   "id": "faa9ef45-fadb-4f6e-98d8-aa0724b49eb2",
   "metadata": {
    "tags": []
   },
   "source": [
    "## Configuration"
   ]
  },
  {
   "cell_type": "code",
   "execution_count": null,
   "id": "6deb742f-36d4-4138-a0c9-d02ae0bb44b5",
   "metadata": {},
   "outputs": [],
   "source": [
    "# Check free memory available\n",
    "%system free -m"
   ]
  },
  {
   "cell_type": "code",
   "execution_count": null,
   "id": "2c5b43a7-b898-48dc-a11b-b2da605242e9",
   "metadata": {},
   "outputs": [],
   "source": [
    "# Import the necessary libraries\n",
    "\n",
    "# Basic python libraries\n",
    "import os\n",
    "import numpy as np\n",
    "from IPython.display import display\n",
    "\n",
    "# Data visualization\n",
    "import matplotlib.pyplot as plt\n",
    "import seaborn as sns\n",
    "\n",
    "# Geospatial data visualization\n",
    "import geopandas as gpd\n",
    "import folium\n",
    "from shapely.ops import unary_union\n",
    "\n",
    "# Google cloud libraries\n",
    "from google.cloud import bigquery\n",
    "from google.cloud import storage\n",
    "\n",
    "# Pandas and BigQuery\n",
    "import pandas_gbq as pdg\n",
    "import pandas as pd"
   ]
  },
  {
   "cell_type": "code",
   "execution_count": null,
   "id": "b903628f-0789-44b6-a3b5-ba93b62c9d3a",
   "metadata": {},
   "outputs": [],
   "source": [
    "# Current working directory\n",
    "os.getcwd()"
   ]
  },
  {
   "cell_type": "code",
   "execution_count": null,
   "id": "d13bd7cd-8678-4132-b5cd-f13378e5f07a",
   "metadata": {},
   "outputs": [],
   "source": [
    "# Set output data and output locations\n",
    "raw_data = \"../data/raw/\"\n",
    "interim_data = \"../data/interim/\"\n",
    "processed_data = \"../data/processed/\"\n",
    "\n",
    "figures = \"../reports/figures/\"\n",
    "config = \"../config/\""
   ]
  },
  {
   "cell_type": "markdown",
   "id": "986d10ce-62ee-4266-9564-9ee334b8908e",
   "metadata": {
    "tags": []
   },
   "source": [
    "## Data Loading"
   ]
  },
  {
   "cell_type": "markdown",
   "id": "d6ba4e2e-341b-4649-8e04-82cac37030f9",
   "metadata": {
    "tags": []
   },
   "source": [
    "### neet_chd"
   ]
  },
  {
   "cell_type": "code",
   "execution_count": null,
   "id": "7aaafdac-1451-46c2-ba5d-92d6d31cc840",
   "metadata": {},
   "outputs": [],
   "source": [
    "# Set the filename for your CSV file\n",
    "csv_filename = \"neet_chd.csv\"\n",
    "\n",
    "# Combine the path and filename\n",
    "csv_filepath = os.path.join(processed_data, csv_filename)\n",
    "\n",
    "# Load the CSV file into a DataFrame\n",
    "neet_chd_df = pd.read_csv(csv_filepath)\n",
    "\n",
    "# Display the loaded DataFrame\n",
    "neet_chd_df"
   ]
  },
  {
   "cell_type": "markdown",
   "id": "45bfe70f-0246-4992-a620-77b5658ba157",
   "metadata": {
    "tags": []
   },
   "source": [
    "### other_covariates"
   ]
  },
  {
   "cell_type": "code",
   "execution_count": null,
   "id": "6d6996a5-27f9-432b-b3e9-24b318d94cf0",
   "metadata": {},
   "outputs": [],
   "source": [
    "# Set the filename for your CSV file\n",
    "csv_filename = \"other_covariates.csv\"\n",
    "\n",
    "# Combine the path and filename\n",
    "csv_filepath = os.path.join(processed_data, csv_filename)\n",
    "\n",
    "# Load the CSV file into a DataFrame\n",
    "other_covariates_df = pd.read_csv(csv_filepath)\n",
    "\n",
    "# Display the loaded DataFrame\n",
    "other_covariates_df"
   ]
  },
  {
   "cell_type": "markdown",
   "id": "cf2113df-97cd-4fe1-9911-a007612c048b",
   "metadata": {
    "tags": []
   },
   "source": [
    "### Data Filteration"
   ]
  },
  {
   "cell_type": "code",
   "execution_count": null,
   "id": "f178649a-9d22-4899-b37e-e412930d462d",
   "metadata": {},
   "outputs": [],
   "source": [
    "# Filter the neet_chd_df by 'home_lsoa_in_bradford'\n",
    "neet_chd_filtered = neet_chd_df[(neet_chd_df['home_lsoa_in_bradford'])]"
   ]
  },
  {
   "cell_type": "markdown",
   "id": "754d6d50-e27a-4290-8e85-dc1f1db0cf5f",
   "metadata": {},
   "source": [
    "### DataFrames to GeoDataFrames"
   ]
  },
  {
   "cell_type": "code",
   "execution_count": null,
   "id": "798e7b59-e5aa-498c-ba9b-be2012fcb49e",
   "metadata": {},
   "outputs": [],
   "source": [
    "# Convert the neet_chd_filtered to GeoDataFrame\n",
    "neet_crs = {'init': 'epsg:4326'}\n",
    "neet_geometry = gpd.GeoDataFrame(neet_chd_filtered, geometry=gpd.GeoSeries.from_wkt(neet_chd_filtered['geometry']), crs=neet_crs)"
   ]
  },
  {
   "cell_type": "markdown",
   "id": "98f4a12a-4c6c-4fac-b8af-c3f1e7e7dbf8",
   "metadata": {
    "tags": []
   },
   "source": [
    "### Data Aggregation and Count of individuals by Ward"
   ]
  },
  {
   "cell_type": "code",
   "execution_count": null,
   "id": "252114cf-f345-4006-9a90-dcd86d34bb65",
   "metadata": {
    "tags": []
   },
   "outputs": [],
   "source": [
    "# Set 'ward_code' as the index\n",
    "neet_chd_filtered = neet_chd_filtered.set_index('ward_code')\n",
    "\n",
    "# Aggregate data by 'ward_name' and summing the count of different scenarios separately\n",
    "neet_geometry_count_gdf = neet_chd_filtered.groupby('ward_name').agg(\n",
    "    ever_neet_status=('ever_neet_status', 'sum'),\n",
    "    persistent_neet_status=('persistent_neet_status', 'sum'),\n",
    "    total_persons=('person_id', 'count'),\n",
    "    latitude=('latitude', 'mean'),  # Aggregate latitude\n",
    "    longitude=('longitude', 'mean'),  # Aggregate longitude\n",
    "    geometry=('geometry', lambda x: unary_union(x)),  # Combine geometries\n",
    ").reset_index()\n",
    "\n",
    "# Calculate the percentages directly on the DataFrame\n",
    "neet_geometry_count_gdf['ever_neet_status_percentage'] = (neet_geometry_count_gdf['ever_neet_status'] / neet_geometry_count_gdf['total_persons'] * 100).round(2)\n",
    "neet_geometry_count_gdf['persistent_neet_status_percentage'] = (neet_geometry_count_gdf['persistent_neet_status'] / neet_geometry_count_gdf['total_persons'] * 100).round(2)\n",
    "\n",
    "# Display the result\n",
    "neet_geometry_count_gdf"
   ]
  },
  {
   "cell_type": "markdown",
   "id": "56fc7902-57b6-4928-9a31-3cf622d0ed0d",
   "metadata": {
    "tags": []
   },
   "source": [
    "### Build Choropleth Map using Percentage"
   ]
  },
  {
   "cell_type": "code",
   "execution_count": null,
   "id": "e9479500-acaa-41c9-a8b7-db4b13c85220",
   "metadata": {},
   "outputs": [],
   "source": [
    "# Set the Coordinate Reference System (CRS) to EPSG:4326\n",
    "neet_geometry_count_gdf = gpd.GeoDataFrame(neet_geometry_count_gdf, geometry='geometry', crs='EPSG:4326')\n",
    "\n",
    "# Create a Folium map\n",
    "m = folium.Map(location=[neet_geometry_count_gdf.geometry.centroid.y.mean(), neet_geometry_count_gdf.geometry.centroid.x.mean()], zoom_start=11)\n",
    "\n",
    "# Set the column's name into a list\n",
    "count_columns = ['ever_neet_status', 'persistent_neet_status']\n",
    "\n",
    "# Calculate the maximum value among all layers to set a consistent color scale range\n",
    "max_value = neet_geometry_count_gdf[[f'{column}_percentage' for column in count_columns]].max().max()\n",
    "\n",
    "# Add choropleth layers for each density column\n",
    "for count_column in count_columns:\n",
    "    # Calculate the percentage with two decimal points\n",
    "    neet_geometry_count_gdf[f'{count_column}_percentage'] = (neet_geometry_count_gdf[count_column] / neet_geometry_count_gdf['total_persons']) * 100\n",
    "    neet_geometry_count_gdf[f'{count_column}_percentage'] = neet_geometry_count_gdf[f'{count_column}_percentage'].round(2)\n",
    "\n",
    "    choropleth = folium.Choropleth(\n",
    "        geo_data=neet_geometry_count_gdf,\n",
    "        name=f'{count_column}_percentage',\n",
    "        data=neet_geometry_count_gdf,\n",
    "        columns=['ward_name', f'{count_column}_percentage'],\n",
    "        key_on='feature.properties.ward_name',\n",
    "        fill_color='BuGn',\n",
    "        fill_opacity=0.75,\n",
    "        line_opacity=0.75,\n",
    "        legend_name=f'{count_column} percentage',\n",
    "        bins=np.linspace(0, max_value, 6)  # Specify the same color scale range for all layers\n",
    "    ).add_to(m)\n",
    "\n",
    "    # Add tooltips with 'ward_name'\n",
    "    choropleth.geojson.add_child(folium.features.GeoJsonTooltip(['ward_name', count_column, f'{count_column}_percentage'], aliases=['Ward Name:', 'Count:', 'Percent:']))\n",
    "    \n",
    "# Add Layer Control to the map\n",
    "folium.LayerControl(collapsed=False).add_to(m)\n",
    "\n",
    "# Save the map\n",
    "bradford_ward_map = \"../reports/figures/bradford_ward_map.html\"\n",
    "m.save(bradford_ward_map)\n",
    "\n",
    "# Display the map\n",
    "display(m)\n"
   ]
  },
  {
   "cell_type": "markdown",
   "id": "5414ac5b-20ca-413c-84d7-859283061fdf",
   "metadata": {},
   "source": [
    "## Spatial Analysis by Ward and Academic Year"
   ]
  },
  {
   "cell_type": "markdown",
   "id": "f1edb7fe-1c3b-4343-9b53-c6f3e7cf6a83",
   "metadata": {},
   "source": [
    "### Data Filteration"
   ]
  },
  {
   "cell_type": "code",
   "execution_count": null,
   "id": "be96a64c-b9e5-44d3-8969-47271123e050",
   "metadata": {},
   "outputs": [],
   "source": [
    "# Filter the neet_chd_df by 'home_lsoa_in_bradford'\n",
    "neet_chd_filtered = neet_chd_df[(neet_chd_df['home_lsoa_in_bradford'])]"
   ]
  },
  {
   "cell_type": "markdown",
   "id": "3b3f6185-2ca8-497a-9f44-9589fd48761f",
   "metadata": {
    "tags": []
   },
   "source": [
    "### Data Merging"
   ]
  },
  {
   "cell_type": "code",
   "execution_count": null,
   "id": "bd12240d-52a6-4b79-9593-99fbb4cfef45",
   "metadata": {},
   "outputs": [],
   "source": [
    "# Joining on person_id\n",
    "neet_geom_academic_year_df = pd.merge(neet_chd_filtered[['person_id', 'home_lsoa_in_bradford', 'ward_code', 'ward_name', 'geometry']], other_covariates_df[['person_id', 'academic_year', 'neet_count']], on='person_id', how='left')\n",
    "\n",
    "# Remove duplicates from joined_df\n",
    "neet_geom_academic_year_df = neet_geom_academic_year_df.drop_duplicates()\n",
    "\n",
    "# Display the result\n",
    "neet_geom_academic_year_df"
   ]
  },
  {
   "cell_type": "markdown",
   "id": "ac06b3bb-c7e0-4ef4-ac36-95cd9734c9bc",
   "metadata": {
    "tags": []
   },
   "source": [
    "### ever_neet_status and persistent_neet_status creation"
   ]
  },
  {
   "cell_type": "code",
   "execution_count": null,
   "id": "f80f2371-da9d-44d3-a3a0-27286f479e53",
   "metadata": {},
   "outputs": [],
   "source": [
    "# Add ever_neet_status and persistent_neet_status columns to the df\n",
    "neet_geom_academic_year_df['ever_neet_status'] = neet_geom_academic_year_df['neet_count'] >= 1\n",
    "neet_geom_academic_year_df['persistent_neet_status'] = neet_geom_academic_year_df['neet_count'] >= 4\n",
    "\n",
    "# Display the result\n",
    "neet_geom_academic_year_df"
   ]
  },
  {
   "cell_type": "markdown",
   "id": "3cd560ff-0781-4215-bd92-20a0ecaa90ee",
   "metadata": {
    "tags": []
   },
   "source": [
    "### Convert DataFrame to GeoDataFrame"
   ]
  },
  {
   "cell_type": "code",
   "execution_count": null,
   "id": "feb76548-3953-4d1f-8d22-fedd6aed40d2",
   "metadata": {},
   "outputs": [],
   "source": [
    "# Convert DataFrame to GeoDataFrame\n",
    "neet_geom_academic_year_gdf = gpd.GeoDataFrame(neet_geom_academic_year_df, geometry=gpd.GeoSeries.from_wkt(neet_geom_academic_year_df['geometry']), crs={'init': 'epsg:4326'})"
   ]
  },
  {
   "cell_type": "code",
   "execution_count": null,
   "id": "7ac5a1c9-6781-4371-90ac-75ee280c1d0c",
   "metadata": {},
   "outputs": [],
   "source": [
    "# Display the detail info of the joined_gdf\n",
    "neet_geom_academic_year_gdf.info()"
   ]
  },
  {
   "cell_type": "markdown",
   "id": "c46c5aac-9165-472c-bc62-fd74e2fb4c35",
   "metadata": {},
   "source": [
    "### Count of individuals by Ward in Bradford for each academic year"
   ]
  },
  {
   "cell_type": "code",
   "execution_count": null,
   "id": "7ace95fc-b527-4cb0-9763-f35021a44ce4",
   "metadata": {},
   "outputs": [],
   "source": [
    "# Set 'ward_code' as the index\n",
    "neet_geom_academic_year_gdf = neet_geom_academic_year_gdf.set_index('ward_code')\n",
    "\n",
    "# Group the data by 'ward_name' and 'academic_year', and aggregate ever_neet_status and persistent_neet_status by summing the True values\n",
    "neet_geom_academic_year_gdf = neet_geom_academic_year_gdf.groupby(['academic_year', 'ward_name']).agg(\n",
    "    ever_neet_count=('ever_neet_status', 'sum'),  # Count of True values for ever_neet_status\n",
    "    persistent_neet_count=('persistent_neet_status', 'sum'),  # Count of True values for persistent_neet_status\n",
    "    total_persons=('person_id', 'size'),  # Count total persons in each ward and academic year\n",
    "    geometry=('geometry', lambda x: unary_union(x)),  # Combine geometries\n",
    ").reset_index()\n",
    "\n",
    "# Calculate the percentages directly on the DataFrame\n",
    "neet_geom_academic_year_gdf['ever_neet_status_percentage'] = (neet_geom_academic_year_gdf['ever_neet_count'] / neet_geom_academic_year_gdf['total_persons'] * 100).round(2)\n",
    "neet_geom_academic_year_gdf['persistent_neet_status_percentage'] = (neet_geom_academic_year_gdf['persistent_neet_count'] / neet_geom_academic_year_gdf['total_persons'] * 100).round(2)\n",
    "\n",
    "# Display the result\n",
    "neet_geom_academic_year_gdf"
   ]
  },
  {
   "cell_type": "code",
   "execution_count": null,
   "id": "1892c59d-1cea-42ea-907c-cbe9c4fc09d2",
   "metadata": {},
   "outputs": [],
   "source": [
    "# Save dataframe to CSV file\n",
    "csv_filename = 'neet_geom_academic_year.csv'\n",
    "\n",
    "# Combine the path and filename\n",
    "csv_filepath = os.path.join(processed_data, csv_filename)\n",
    "\n",
    "# Save the DataFrame to CSV\n",
    "neet_geom_academic_year_gdf.to_csv(csv_filepath, index=False)\n",
    "print(f\"DataFrame saved to: {csv_filepath}\")"
   ]
  },
  {
   "cell_type": "markdown",
   "id": "c7fa96b4-b095-4969-afbe-716a3dcd3749",
   "metadata": {
    "tags": []
   },
   "source": [
    "### Build Choropleth Map using Percentage"
   ]
  },
  {
   "cell_type": "code",
   "execution_count": null,
   "id": "f844844b-e691-4a29-8375-606683eefc42",
   "metadata": {},
   "outputs": [],
   "source": [
    "# Set the Coordinate Reference System (CRS) to EPSG:4326\n",
    "neet_geom_academic_year_gdf = gpd.GeoDataFrame(neet_geom_academic_year_gdf, geometry='geometry', crs='EPSG:4326')\n",
    "\n",
    "# Create a Folium map\n",
    "m = folium.Map(location=[neet_geom_academic_year_gdf.geometry.centroid.y.mean(), neet_geom_academic_year_gdf.geometry.centroid.x.mean()], zoom_start=11)\n",
    "\n",
    "# Set the column's name into a list\n",
    "count_columns = ['ever_neet_status', 'persistent_neet_status']\n",
    "\n",
    "# Calculate the maximum value among all layers to set a consistent color scale range\n",
    "max_value = neet_geom_academic_year_gdf[[f'{column}_percentage' for column in count_columns]].max().max()\n",
    "\n",
    "# Iterate over each academic year\n",
    "for academic_year, group in neet_geom_academic_year_gdf.groupby('academic_year'):\n",
    "    # Add choropleth layer for ever_neet_percentage\n",
    "    ever_neet_choropleth = folium.Choropleth(\n",
    "        geo_data=group,\n",
    "        name=f'Ever NEET Percentage {academic_year}',\n",
    "        data=group,\n",
    "        columns=['ward_name', 'ever_neet_status_percentage'],\n",
    "        key_on='feature.properties.ward_name',\n",
    "        fill_color='BuGn',  # Using a ColorBrewer code\n",
    "        fill_opacity=0.75,\n",
    "        line_opacity=0.75,\n",
    "        legend_name=f'Ever NEET Percentage {academic_year}',\n",
    "        bins=np.linspace(0, max_value, 6)  # Specify the same color scale range for all layers\n",
    "    ).add_to(m)\n",
    "\n",
    "    # Add tooltips with 'ward_name'\n",
    "    ever_neet_choropleth.geojson.add_child(folium.features.GeoJsonTooltip(['ward_name', 'ever_neet_status_percentage'], aliases=['Ward Name:', 'Ever NEET Percentage:']))\n",
    "\n",
    "    # Add choropleth layer for persistent_neet_percentage\n",
    "    persistent_neet_choropleth = folium.Choropleth(\n",
    "        geo_data=group,\n",
    "        name=f'Persistent NEET Percentage {academic_year}',\n",
    "        data=group,\n",
    "        columns=['ward_name', 'persistent_neet_status_percentage'],\n",
    "        key_on='feature.properties.ward_name',\n",
    "        fill_color='BuGn',  # Using a ColorBrewer code\n",
    "        fill_opacity=0.75,\n",
    "        line_opacity=0.75,\n",
    "        legend_name=f'Persistent NEET Percentage {academic_year}',\n",
    "        bins=np.linspace(0, max_value, 6)  # Specify the same color scale range for all layers\n",
    "    ).add_to(m)\n",
    "\n",
    "    # Add tooltips with 'ward_name'\n",
    "    persistent_neet_choropleth.geojson.add_child(folium.features.GeoJsonTooltip(['ward_name', 'persistent_neet_status_percentage'], aliases=['Ward Name:', 'Persistent NEET Percentage:']))\n",
    "\n",
    "# Add Layer Control to the map\n",
    "folium.LayerControl(collapsed=False).add_to(m)\n",
    "\n",
    "# Save the map\n",
    "bradford_ward_academic_year_map = \"../reports/figures/bradford_ward_academic_year_map.html\"\n",
    "m.save(bradford_ward_academic_year_map)\n",
    "\n",
    "# Display the map\n",
    "display(m)"
   ]
  },
  {
   "cell_type": "markdown",
   "id": "9e8eb975-46e2-47b8-9196-b856cd1713ed",
   "metadata": {},
   "source": [
    "## Annual Trajectory - Ever NEET"
   ]
  },
  {
   "cell_type": "code",
   "execution_count": null,
   "id": "42ac41ec-df3d-438f-ba13-c3b4e583e913",
   "metadata": {},
   "outputs": [],
   "source": [
    "# Create a figure and axis object\n",
    "fig, ax = plt.subplots(figsize=(15, 10))\n",
    "\n",
    "# Plot average ever NEET percentage trend for all wards with a bolder line\n",
    "average_ever_neet = neet_geom_academic_year_gdf.groupby('academic_year')['ever_neet_status_percentage'].mean()\n",
    "ax.plot(average_ever_neet.index, average_ever_neet, label='Average Ever NEET', color='b', linestyle='-', alpha=0.7, linewidth=2.5)  # Set linewidth to 2.5\n",
    "\n",
    "# Define unique line styles and colors for each ward\n",
    "line_styles = ['-', '--', '-.', ':', (0, (3, 5, 1, 5)), (0, (1, 10)), (0, (3, 1, 1, 1))]\n",
    "colors = ['g', 'r', 'c', 'm', 'y', 'k', 'orange', 'purple', 'brown', 'lime', 'cyan', 'pink']\n",
    "\n",
    "# Plot ever NEET percentage trend for all wards\n",
    "unique_wards = neet_geom_academic_year_gdf['ward_name'].unique()\n",
    "for i, ward_name in enumerate(unique_wards):\n",
    "    ward_data = neet_geom_academic_year_gdf[neet_geom_academic_year_gdf['ward_name'] == ward_name]\n",
    "    ax.plot(ward_data['academic_year'], \n",
    "            (ward_data['ever_neet_count'] / ward_data['total_persons']) * 100,\n",
    "            label=ward_name,\n",
    "            linestyle=line_styles[i % len(line_styles)],\n",
    "            color=colors[i % len(colors)],\n",
    "            alpha=0.7)  # Set transparency\n",
    "\n",
    "# Set labels and title for the plot with increased font sizes\n",
    "ax.set_xlabel('Academic Year', fontsize=16)\n",
    "ax.set_ylabel('Ever NEET Percentage', fontsize=16)\n",
    "ax.set_title('Ever NEET Percentage Trend', fontsize=20) \n",
    "ax.legend(loc='upper left', bbox_to_anchor=(1, 1), title='Ward', fontsize=14)\n",
    "ax.grid(True)\n",
    "\n",
    "# Set x-axis tick labels to actual academic years\n",
    "ax.set_xticklabels(average_ever_neet.index, rotation=45, fontsize=12)  # Increased x-axis tick label font size\n",
    "\n",
    "# Set the y-axis range from 0 to 30\n",
    "plt.ylim(0, 30)\n",
    "\n",
    "# Show plot\n",
    "plt.tight_layout()\n",
    "plt.show()\n"
   ]
  },
  {
   "cell_type": "markdown",
   "id": "6c57484c-9937-43c2-b1d5-48b00389b7a3",
   "metadata": {},
   "source": [
    "## Annual Trajectory - Persistent NEET"
   ]
  },
  {
   "cell_type": "code",
   "execution_count": null,
   "id": "5f5db8ca-fe52-49d3-9773-e698bb399901",
   "metadata": {},
   "outputs": [],
   "source": [
    "# Create a figure and axis object\n",
    "fig, ax = plt.subplots(figsize=(15, 10))\n",
    "\n",
    "# Plot average persistent NEET percentage trend for all wards with a bolder line\n",
    "average_persistent_neet = neet_geom_academic_year_gdf.groupby('academic_year')['persistent_neet_status_percentage'].mean()\n",
    "ax.plot(average_persistent_neet.index, average_persistent_neet, label='Average Persistent NEET', color='b', linestyle='-', alpha=0.7, linewidth=2.5)  # Set linewidth to 2.5\n",
    "\n",
    "# Define unique line styles and colors for each ward\n",
    "line_styles = ['-', '--', '-.', ':', (0, (3, 5, 1, 5)), (0, (1, 10)), (0, (3, 1, 1, 1))]\n",
    "colors = ['g', 'r', 'c', 'm', 'y', 'k', 'orange', 'purple', 'brown', 'lime', 'cyan', 'pink']\n",
    "\n",
    "# Plot persistent NEET percentage trend for all wards\n",
    "unique_wards = neet_geom_academic_year_gdf['ward_name'].unique()\n",
    "for i, ward_name in enumerate(unique_wards):\n",
    "    ward_data = neet_geom_academic_year_gdf[neet_geom_academic_year_gdf['ward_name'] == ward_name]\n",
    "    ax.plot(ward_data['academic_year'], \n",
    "            (ward_data['persistent_neet_count'] / ward_data['total_persons']) * 100,\n",
    "            label=ward_name,\n",
    "            linestyle=line_styles[i % len(line_styles)],\n",
    "            color=colors[i % len(colors)],\n",
    "            alpha=0.7)  # Set transparency\n",
    "\n",
    "# Set labels and title for the plot with increased font sizes\n",
    "ax.set_xlabel('Academic Year', fontsize=16)\n",
    "ax.set_ylabel('Persistent NEET Percentage', fontsize=16)\n",
    "ax.set_title('Persistent NEET Percentage Trend', fontsize=20)\n",
    "ax.legend(loc='upper left', bbox_to_anchor=(1, 1), title='Ward', fontsize=14)\n",
    "ax.grid(True)\n",
    "\n",
    "# Set x-axis tick labels to actual academic years\n",
    "ax.set_xticklabels(average_persistent_neet.index, rotation=45, fontsize=12)\n",
    "\n",
    "# Set the y-axis range from 0 to 30\n",
    "plt.ylim(0, 30)\n",
    "\n",
    "# Show plot\n",
    "plt.tight_layout()\n",
    "plt.show()\n"
   ]
  },
  {
   "cell_type": "code",
   "execution_count": null,
   "id": "c9d23779-27f1-4dfe-ac4a-54c803c3f569",
   "metadata": {},
   "outputs": [],
   "source": []
  }
 ],
 "metadata": {
  "environment": {
   "kernel": "python3",
   "name": ".m112",
   "type": "gcloud",
   "uri": "gcr.io/deeplearning-platform-release/:m112"
  },
  "kernelspec": {
   "display_name": "Python 3",
   "language": "python",
   "name": "python3"
  },
  "language_info": {
   "codemirror_mode": {
    "name": "ipython",
    "version": 3
   },
   "file_extension": ".py",
   "mimetype": "text/x-python",
   "name": "python",
   "nbconvert_exporter": "python",
   "pygments_lexer": "ipython3",
   "version": "3.7.12"
  }
 },
 "nbformat": 4,
 "nbformat_minor": 5
}
