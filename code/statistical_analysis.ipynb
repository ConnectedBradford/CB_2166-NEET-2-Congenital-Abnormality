{
 "cells": [
  {
   "cell_type": "markdown",
   "id": "e6028579-3d07-4740-9e33-5021b30438b0",
   "metadata": {
    "tags": []
   },
   "source": [
    "# Statistical Analysis"
   ]
  },
  {
   "cell_type": "raw",
   "id": "330eba78-ee8e-4539-8c40-4a29871bbe27",
   "metadata": {},
   "source": [
    "The objective of this notebook is to assess the association of CHD with NEET status."
   ]
  },
  {
   "cell_type": "markdown",
   "id": "faa9ef45-fadb-4f6e-98d8-aa0724b49eb2",
   "metadata": {
    "tags": []
   },
   "source": [
    "## Configuration"
   ]
  },
  {
   "cell_type": "code",
   "execution_count": null,
   "id": "6deb742f-36d4-4138-a0c9-d02ae0bb44b5",
   "metadata": {},
   "outputs": [],
   "source": [
    "# Check free memory available\n",
    "%system free -m"
   ]
  },
  {
   "cell_type": "code",
   "execution_count": null,
   "id": "2c5b43a7-b898-48dc-a11b-b2da605242e9",
   "metadata": {},
   "outputs": [],
   "source": [
    "# Import the necessary libraries\n",
    "import os\n",
    "\n",
    "# Statistical libraries\n",
    "from statsmodels.formula.api import logit\n",
    "from sklearn.preprocessing import LabelEncoder\n",
    "\n",
    "# Google cloud libraries\n",
    "from google.cloud import bigquery\n",
    "from google.cloud import storage\n",
    "\n",
    "# Pandas and BigQuery\n",
    "import pandas_gbq as pdg\n",
    "import pandas as pd"
   ]
  },
  {
   "cell_type": "code",
   "execution_count": null,
   "id": "b903628f-0789-44b6-a3b5-ba93b62c9d3a",
   "metadata": {},
   "outputs": [],
   "source": [
    "# Current working directory\n",
    "os.getcwd()"
   ]
  },
  {
   "cell_type": "code",
   "execution_count": null,
   "id": "d13bd7cd-8678-4132-b5cd-f13378e5f07a",
   "metadata": {},
   "outputs": [],
   "source": [
    "# Set output data and output locations\n",
    "raw_data = \"../data/raw/\"\n",
    "interim_data = \"../data/interim/\"\n",
    "processed_data = \"../data/processed/\"\n",
    "\n",
    "figures = \"../reports/figures/\"\n",
    "config = \"../config/\""
   ]
  },
  {
   "cell_type": "markdown",
   "id": "986d10ce-62ee-4266-9564-9ee334b8908e",
   "metadata": {
    "tags": []
   },
   "source": [
    "## Data Loading"
   ]
  },
  {
   "cell_type": "markdown",
   "id": "3b9168c4-945f-4c1f-a386-405a8b9911fc",
   "metadata": {
    "tags": []
   },
   "source": [
    "### neet_chd"
   ]
  },
  {
   "cell_type": "code",
   "execution_count": null,
   "id": "300199a1-3bde-4873-9a97-dcd898a40801",
   "metadata": {},
   "outputs": [],
   "source": [
    "# Set the filename for your CSV file\n",
    "csv_filename = \"neet_chd.csv\"\n",
    "\n",
    "# Combine the path and filename\n",
    "csv_filepath = os.path.join(processed_data, csv_filename)\n",
    "\n",
    "# Load the CSV file into a DataFrame\n",
    "neet_chd_df = pd.read_csv(csv_filepath)\n",
    "\n",
    "# Display the loaded DataFrame\n",
    "neet_chd_df"
   ]
  },
  {
   "cell_type": "markdown",
   "id": "b9d49c92-6ad1-4bac-956c-5a04e27092c9",
   "metadata": {
    "tags": []
   },
   "source": [
    "## Statistical Analysis"
   ]
  },
  {
   "cell_type": "markdown",
   "id": "cf22d12d-f637-49b3-b084-291cfd70ac72",
   "metadata": {
    "tags": []
   },
   "source": [
    "### Logistic Reression"
   ]
  },
  {
   "cell_type": "code",
   "execution_count": null,
   "id": "84429b84-ed17-4028-ad5c-8da6e50d4dba",
   "metadata": {},
   "outputs": [],
   "source": [
    "# Encode the columns of interest\n",
    "label_encoder = LabelEncoder()"
   ]
  },
  {
   "cell_type": "code",
   "execution_count": null,
   "id": "fec6579b-7437-40a0-ba37-c23e89319378",
   "metadata": {},
   "outputs": [],
   "source": [
    "# Apply the encoding method to each of the columns\n",
    "ever_neet_status_values = label_encoder.fit_transform(neet_chd_df[\"ever_neet_status\"])\n",
    "persistent_neet_status_values = label_encoder.fit_transform(neet_chd_df[\"persistent_neet_status\"])\n",
    "chd_status_values = label_encoder.fit_transform(neet_chd_df[\"chd_status\"])"
   ]
  },
  {
   "cell_type": "code",
   "execution_count": null,
   "id": "1550e740-3f8d-486c-951c-8d594e090ffe",
   "metadata": {},
   "outputs": [],
   "source": [
    "# Create the encoded DataFrame by initializing the DataFrame object for each column\n",
    "ever_neet_status = pd.DataFrame(ever_neet_status_values, columns=[\"ever_neet_status\"])\n",
    "persistent_neet_status = pd.DataFrame(persistent_neet_status_values, columns=[\"persistent_neet_status\"])\n",
    "chd_status = pd.DataFrame(chd_status_values, columns=[\"chd_status\"])"
   ]
  },
  {
   "cell_type": "code",
   "execution_count": null,
   "id": "f11f9faf-16cc-42fb-918b-c7442266b63f",
   "metadata": {},
   "outputs": [],
   "source": [
    "# Replace the initial columns with the encoded columns\n",
    "neet_chd_df[\"ever_neet_status\"] = ever_neet_status\n",
    "neet_chd_df[\"persistent_neet_status\"] = persistent_neet_status\n",
    "neet_chd_df[\"chd_status\"] = chd_status\n",
    "neet_chd_df"
   ]
  },
  {
   "cell_type": "code",
   "execution_count": null,
   "id": "8ca9a97f-719c-4a33-9fb1-e30699794577",
   "metadata": {},
   "outputs": [],
   "source": [
    "mdl_ever_neet_vs_chd = logit(\"ever_neet_status ~ chd_status\", data=neet_chd_df).fit()"
   ]
  },
  {
   "cell_type": "code",
   "execution_count": null,
   "id": "18db6e02-9cf9-4b31-b085-27c027b57a60",
   "metadata": {},
   "outputs": [],
   "source": [
    "mdl_ever_neet_vs_chd.params"
   ]
  },
  {
   "cell_type": "code",
   "execution_count": null,
   "id": "d49fabaf-e184-4b29-82f9-dbf2cf4928a8",
   "metadata": {},
   "outputs": [],
   "source": [
    "conf_matrix = mdl_ever_neet_vs_chd.pred_table()\n",
    "conf_matrix"
   ]
  },
  {
   "cell_type": "code",
   "execution_count": null,
   "id": "11471ead-47eb-47c6-9933-4184cfe19cbe",
   "metadata": {},
   "outputs": [],
   "source": [
    "mdl_ever_neet_vs_chd.summary()"
   ]
  },
  {
   "cell_type": "code",
   "execution_count": null,
   "id": "51bcacd0-141a-4719-b1f6-9e26723e54a3",
   "metadata": {},
   "outputs": [],
   "source": [
    "mdl_persistent_neet_vs_chd = logit(\"persistent_neet_status ~ chd_status\", data=neet_chd_df).fit()"
   ]
  },
  {
   "cell_type": "code",
   "execution_count": null,
   "id": "d29f1eaa-e6fb-45bf-80d9-fac0fe70b7a8",
   "metadata": {},
   "outputs": [],
   "source": [
    "mdl_persistent_neet_vs_chd.params"
   ]
  },
  {
   "cell_type": "code",
   "execution_count": null,
   "id": "1eefdfb5-970c-402f-84b9-aff8ea67251f",
   "metadata": {},
   "outputs": [],
   "source": [
    "conf_matrix = mdl_persistent_neet_vs_chd.pred_table()\n",
    "conf_matrix"
   ]
  },
  {
   "cell_type": "code",
   "execution_count": null,
   "id": "06e24d3b-11e8-4d2e-8572-7ef84be684a0",
   "metadata": {},
   "outputs": [],
   "source": [
    "mdl_persistent_neet_vs_chd.summary()"
   ]
  },
  {
   "cell_type": "code",
   "execution_count": null,
   "id": "f966c2ed-e09e-4d96-b1d8-9bb5d8d0c1a1",
   "metadata": {},
   "outputs": [],
   "source": []
  }
 ],
 "metadata": {
  "environment": {
   "kernel": "python3",
   "name": ".m112",
   "type": "gcloud",
   "uri": "gcr.io/deeplearning-platform-release/:m112"
  },
  "kernelspec": {
   "display_name": "Python 3",
   "language": "python",
   "name": "python3"
  },
  "language_info": {
   "codemirror_mode": {
    "name": "ipython",
    "version": 3
   },
   "file_extension": ".py",
   "mimetype": "text/x-python",
   "name": "python",
   "nbconvert_exporter": "python",
   "pygments_lexer": "ipython3",
   "version": "3.7.12"
  }
 },
 "nbformat": 4,
 "nbformat_minor": 5
}
