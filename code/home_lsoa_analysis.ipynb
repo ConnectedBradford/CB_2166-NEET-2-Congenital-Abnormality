{
 "cells": [
  {
   "cell_type": "markdown",
   "id": "e6028579-3d07-4740-9e33-5021b30438b0",
   "metadata": {
    "tags": []
   },
   "source": [
    "# Spatial Data Analysis"
   ]
  },
  {
   "cell_type": "raw",
   "id": "330eba78-ee8e-4539-8c40-4a29871bbe27",
   "metadata": {},
   "source": [
    "The objective of this notebook is to explore the spatial components of the data to gain more detailed insights into the datasets. "
   ]
  },
  {
   "cell_type": "markdown",
   "id": "faa9ef45-fadb-4f6e-98d8-aa0724b49eb2",
   "metadata": {
    "jp-MarkdownHeadingCollapsed": true,
    "tags": []
   },
   "source": [
    "## Configuration"
   ]
  },
  {
   "cell_type": "code",
   "execution_count": null,
   "id": "6deb742f-36d4-4138-a0c9-d02ae0bb44b5",
   "metadata": {},
   "outputs": [],
   "source": [
    "# Check free memory available\n",
    "%system free -m"
   ]
  },
  {
   "cell_type": "code",
   "execution_count": null,
   "id": "2c5b43a7-b898-48dc-a11b-b2da605242e9",
   "metadata": {
    "tags": []
   },
   "outputs": [],
   "source": [
    "# Import the necessary libraries\n",
    "\n",
    "# Basic python libraries\n",
    "import os\n",
    "import numpy as np\n",
    "\n",
    "# Data visualization\n",
    "import matplotlib.pyplot as plt\n",
    "import seaborn as sns\n",
    "\n",
    "# Geospatial data visualization\n",
    "import geopandas as gpd\n",
    "import folium\n",
    "\n",
    "# Google cloud libraries\n",
    "from google.cloud import bigquery\n",
    "from google.cloud import storage\n",
    "\n",
    "# Pandas and BigQuery\n",
    "import pandas_gbq as pdg\n",
    "import pandas as pd"
   ]
  },
  {
   "cell_type": "code",
   "execution_count": null,
   "id": "b903628f-0789-44b6-a3b5-ba93b62c9d3a",
   "metadata": {},
   "outputs": [],
   "source": [
    "# Current working directory\n",
    "os.getcwd()"
   ]
  },
  {
   "cell_type": "code",
   "execution_count": null,
   "id": "d13bd7cd-8678-4132-b5cd-f13378e5f07a",
   "metadata": {},
   "outputs": [],
   "source": [
    "# Set output data and output locations\n",
    "raw_data = \"../data/raw/\"\n",
    "interim_data = \"../data/interim/\"\n",
    "processed_data = \"../data/processed/\"\n",
    "\n",
    "figures = \"../reports/figures/\"\n",
    "config = \"../config/\""
   ]
  },
  {
   "cell_type": "markdown",
   "id": "986d10ce-62ee-4266-9564-9ee334b8908e",
   "metadata": {
    "tags": []
   },
   "source": [
    "## Data Loading"
   ]
  },
  {
   "cell_type": "markdown",
   "id": "d6ba4e2e-341b-4649-8e04-82cac37030f9",
   "metadata": {
    "jp-MarkdownHeadingCollapsed": true,
    "tags": []
   },
   "source": [
    "### neet_chd"
   ]
  },
  {
   "cell_type": "code",
   "execution_count": null,
   "id": "7aaafdac-1451-46c2-ba5d-92d6d31cc840",
   "metadata": {},
   "outputs": [],
   "source": [
    "# Set the filename for your CSV file\n",
    "csv_filename = \"neet_chd.csv\"\n",
    "\n",
    "# Combine the path and filename\n",
    "csv_filepath = os.path.join(processed_data, csv_filename)\n",
    "\n",
    "# Load the CSV file into a DataFrame\n",
    "neet_chd_df = pd.read_csv(csv_filepath)\n",
    "\n",
    "# Display the loaded DataFrame\n",
    "neet_chd_df"
   ]
  },
  {
   "cell_type": "markdown",
   "id": "45bfe70f-0246-4992-a620-77b5658ba157",
   "metadata": {
    "jp-MarkdownHeadingCollapsed": true,
    "tags": []
   },
   "source": [
    "### other_covariates"
   ]
  },
  {
   "cell_type": "code",
   "execution_count": null,
   "id": "6d6996a5-27f9-432b-b3e9-24b318d94cf0",
   "metadata": {},
   "outputs": [],
   "source": [
    "# Set the filename for your CSV file\n",
    "csv_filename = \"other_covariates.csv\"\n",
    "\n",
    "# Combine the path and filename\n",
    "csv_filepath = os.path.join(processed_data, csv_filename)\n",
    "\n",
    "# Load the CSV file into a DataFrame\n",
    "other_covariates_df = pd.read_csv(csv_filepath)\n",
    "\n",
    "# Display the loaded DataFrame\n",
    "other_covariates_df"
   ]
  },
  {
   "cell_type": "markdown",
   "id": "b9d49c92-6ad1-4bac-956c-5a04e27092c9",
   "metadata": {
    "tags": []
   },
   "source": [
    "## Spatial Analysis by LSOA"
   ]
  },
  {
   "cell_type": "markdown",
   "id": "cf2113df-97cd-4fe1-9911-a007612c048b",
   "metadata": {
    "tags": []
   },
   "source": [
    "### Data Filteration"
   ]
  },
  {
   "cell_type": "code",
   "execution_count": null,
   "id": "f178649a-9d22-4899-b37e-e412930d462d",
   "metadata": {},
   "outputs": [],
   "source": [
    "# Filter the neet_chd_df by 'home_lsoa_in_bradford'\n",
    "neet_chd_filtered = neet_chd_df[(neet_chd_df['home_lsoa_in_bradford'])]"
   ]
  },
  {
   "cell_type": "markdown",
   "id": "98f4a12a-4c6c-4fac-b8af-c3f1e7e7dbf8",
   "metadata": {
    "tags": []
   },
   "source": [
    "### Count of individuals by LSOA in Bradford"
   ]
  },
  {
   "cell_type": "code",
   "execution_count": null,
   "id": "b9a5c154-6f51-40b6-ac52-161f0c0daf2f",
   "metadata": {},
   "outputs": [],
   "source": [
    "# Set 'lsoa_code' as the index\n",
    "neet_chd_filtered = neet_chd_filtered.set_index('lsoa_code')\n",
    "\n",
    "# Aggregate data by 'lsoa_name' and summing the count of different scenarios separately\n",
    "neet_count_df = neet_chd_filtered.groupby('lsoa_name').agg(\n",
    "    ever_neet_status=('ever_neet_status', 'sum'),\n",
    "    persistent_neet_status=('persistent_neet_status', 'sum'),\n",
    "    total_persons=('person_id', 'count')\n",
    ").reset_index()\n",
    "\n",
    "# Calculate the percentages directly on the DataFrame\n",
    "neet_count_df['ever_neet_status_percentage'] = (neet_count_df['ever_neet_status'] / neet_count_df['total_persons'] * 100).round(2)\n",
    "neet_count_df['persistent_neet_status_percentage'] = (neet_count_df['persistent_neet_status'] / neet_count_df['total_persons'] * 100).round(2)\n",
    "\n",
    "# Display the result\n",
    "neet_count_df"
   ]
  },
  {
   "cell_type": "markdown",
   "id": "465201bc-2576-4785-b5ae-f93280023a10",
   "metadata": {
    "tags": [],
    "toc-hr-collapsed": true
   },
   "source": [
    "### DataFrames to GeoDataFrames"
   ]
  },
  {
   "cell_type": "code",
   "execution_count": null,
   "id": "b1381fc8-5508-44b1-b0fc-7f668cf09585",
   "metadata": {},
   "outputs": [],
   "source": [
    "# Convert the neet_chd_filtered to GeoDataFrame\n",
    "neet_crs = {'init': 'epsg:4326'}\n",
    "neet_geometry = gpd.GeoDataFrame(neet_chd_filtered, geometry=gpd.GeoSeries.from_wkt(neet_chd_filtered['geometry']), crs=neet_crs)"
   ]
  },
  {
   "cell_type": "code",
   "execution_count": null,
   "id": "0d6d6829-6a3f-45c2-9238-d97ae5e50e2b",
   "metadata": {},
   "outputs": [],
   "source": [
    "# Obtain the geometric component of the neet_geometry\n",
    "neet_geometry = gpd.GeoDataFrame(neet_geometry[['lsoa_name', 'latitude', 'longitude', 'ward_name', 'geometry']].drop_duplicates())\n",
    "\n",
    "# Display the unique values as a GeoDataFrame\n",
    "neet_geometry"
   ]
  },
  {
   "cell_type": "markdown",
   "id": "1f5c7161-5677-48d5-8842-f58cd72f9f30",
   "metadata": {},
   "source": [
    "### Geometric Components"
   ]
  },
  {
   "cell_type": "code",
   "execution_count": null,
   "id": "6b02cc05",
   "metadata": {},
   "outputs": [],
   "source": [
    "# Obtain the geometric component of the neet_geometry\n",
    "neet_geometry = gpd.GeoDataFrame(neet_geometry[['lsoa_name', 'latitude', 'longitude', 'ward_name', 'geometry']].drop_duplicates())\n",
    "\n",
    "# Display the unique values as a GeoDataFrame\n",
    "neet_geometry"
   ]
  },
  {
   "cell_type": "markdown",
   "id": "16d3a734-7acd-441b-9c2f-39cb54cd384b",
   "metadata": {},
   "source": [
    "### Merge Dataframes"
   ]
  },
  {
   "cell_type": "code",
   "execution_count": null,
   "id": "22e22d68-e4b9-4ca2-b6ee-6d9dd34c5194",
   "metadata": {},
   "outputs": [],
   "source": [
    "# Merge count_df with neet_geometry_gdf on the column 'lsoa_name' using an inner join\n",
    "neet_geometry_count_gdf = pd.merge(neet_count_df, neet_geometry, on='lsoa_name', how='left')\n",
    "\n",
    "# Convert the result to a GeoDataFrame\n",
    "neet_geometry_count_gdf = gpd.GeoDataFrame(neet_geometry_count_gdf, geometry='geometry')\n",
    "\n",
    "# Display the result\n",
    "neet_geometry_count_gdf"
   ]
  },
  {
   "cell_type": "markdown",
   "id": "56fc7902-57b6-4928-9a31-3cf622d0ed0d",
   "metadata": {
    "tags": []
   },
   "source": [
    "### Build Choropleth Map using Percentage"
   ]
  },
  {
   "cell_type": "code",
   "execution_count": null,
   "id": "cb0908c2-1402-4269-91ad-be1ac791140c",
   "metadata": {},
   "outputs": [],
   "source": [
    "# Create a Folium map\n",
    "m = folium.Map(location=[neet_geometry_count_gdf.geometry.centroid.y.mean(), neet_geometry_count_gdf.geometry.centroid.x.mean()], zoom_start=11)\n",
    "\n",
    "# Set the column's name into a list\n",
    "count_columns = ['ever_neet_status', 'persistent_neet_status']\n",
    "\n",
    "# Calculate the maximum value among all layers to set a consistent color scale range\n",
    "max_value = neet_geometry_count_gdf[[f'{column}_percentage' for column in count_columns]].max().max()\n",
    "\n",
    "# Add choropleth layers for each density column\n",
    "for count_column in count_columns:\n",
    "    # Calculate the percentage with two decimal points\n",
    "    neet_geometry_count_gdf[f'{count_column}_percentage'] = (neet_geometry_count_gdf[count_column] / neet_geometry_count_gdf['total_persons']) * 100\n",
    "    neet_geometry_count_gdf[f'{count_column}_percentage'] = neet_geometry_count_gdf[f'{count_column}_percentage'].round(2)\n",
    "\n",
    "    choropleth = folium.Choropleth(\n",
    "        geo_data=neet_geometry_count_gdf,\n",
    "        name=f'{count_column}_percentage',\n",
    "        data=neet_geometry_count_gdf,\n",
    "        columns=['lsoa_name', f'{count_column}_percentage'],\n",
    "        key_on='feature.properties.lsoa_name',\n",
    "        fill_color='BuGn',\n",
    "        fill_opacity=0.75,\n",
    "        line_opacity=0.75,\n",
    "        legend_name=f'{count_column} percentage',\n",
    "        bins=np.linspace(0, max_value, 6)  # Specify the same color scale range for all layers\n",
    "    ).add_to(m)\n",
    "\n",
    "    # Add tooltips with 'ward_name'\n",
    "    choropleth.geojson.add_child(folium.features.GeoJsonTooltip(['lsoa_name', 'ward_name', count_column, f'{count_column}_percentage'], aliases=['LSOA Name:', 'Ward Name:', 'Count:', 'Percent:']))\n",
    "    \n",
    "# Add Layer Control to the map\n",
    "folium.LayerControl(collapsed=False).add_to(m)\n",
    "\n",
    "# Save the map\n",
    "bradford_lsoa_map = \"../reports/figures/bradford_lsoa_map.html\"\n",
    "m.save(bradford_lsoa_map)\n",
    "\n",
    "# Display the map\n",
    "display(m)\n"
   ]
  },
  {
   "cell_type": "code",
   "execution_count": null,
   "id": "c140e51c-b685-44f9-9fdf-7cfffeef5c27",
   "metadata": {},
   "outputs": [],
   "source": []
  }
 ],
 "metadata": {
  "environment": {
   "kernel": "python3",
   "name": ".m112",
   "type": "gcloud",
   "uri": "gcr.io/deeplearning-platform-release/:m112"
  },
  "kernelspec": {
   "display_name": "Python 3",
   "language": "python",
   "name": "python3"
  },
  "language_info": {
   "codemirror_mode": {
    "name": "ipython",
    "version": 3
   },
   "file_extension": ".py",
   "mimetype": "text/x-python",
   "name": "python",
   "nbconvert_exporter": "python",
   "pygments_lexer": "ipython3",
   "version": "3.7.12"
  }
 },
 "nbformat": 4,
 "nbformat_minor": 5
}
