{
 "cells": [
  {
   "cell_type": "markdown",
   "id": "003af06f-3ece-43f9-9d94-0f5872027b09",
   "metadata": {
    "tags": []
   },
   "source": [
    "# Data Ingestion and Preparation"
   ]
  },
  {
   "cell_type": "raw",
   "id": "46b3a7f8-2e28-4036-ad97-316fff8c69cf",
   "metadata": {},
   "source": [
    "The objective of this notebook is to seamlessly acquire data from BigQuery and prepare it for visualisation and subsequent analyses."
   ]
  },
  {
   "cell_type": "markdown",
   "id": "be3b81c9-7d38-46d4-8497-057c09abfd98",
   "metadata": {
    "tags": []
   },
   "source": [
    "## Configuration"
   ]
  },
  {
   "cell_type": "code",
   "execution_count": null,
   "id": "1581b7a5-f823-491f-8744-fbbba6b2023e",
   "metadata": {},
   "outputs": [],
   "source": [
    "# Check free memory available\n",
    "%system free -m"
   ]
  },
  {
   "cell_type": "code",
   "execution_count": null,
   "id": "28e8132a-b4c0-4717-912c-55f394eef166",
   "metadata": {
    "tags": []
   },
   "outputs": [],
   "source": [
    "# Import the necessary libraries\n",
    "# Basic python libraries\n",
    "import os\n",
    "import string\n",
    "import random\n",
    "\n",
    "# Numeric and date libraries\n",
    "#import numpy as np\n",
    "#from datetime import datetime\n",
    "\n",
    "# Google cloud libraries\n",
    "from google.cloud import bigquery\n",
    "from google.cloud import storage\n",
    "\n",
    "# Pandas and BigQuery\n",
    "# os.system(\"pip install pandas-gbq\")\n",
    "import pandas_gbq as pdg\n",
    "import pandas as pd"
   ]
  },
  {
   "cell_type": "code",
   "execution_count": null,
   "id": "6bd8f46f-30ed-49c9-9dc4-933f74aecb19",
   "metadata": {},
   "outputs": [],
   "source": [
    "# Current working directory\n",
    "os.getcwd()\n",
    "\n",
    "# Display all columns\n",
    "pd.set_option('display.max_columns', None)"
   ]
  },
  {
   "cell_type": "code",
   "execution_count": null,
   "id": "94571002-c558-4373-a416-7d0f2e64b40d",
   "metadata": {},
   "outputs": [],
   "source": [
    "# Set output data locations\n",
    "raw_data = \"../data/raw/\"\n",
    "interim_data = \"../data/interim/\"\n",
    "processed_data = \"../data/processed/\""
   ]
  },
  {
   "cell_type": "markdown",
   "id": "933a3502-913d-4c3a-9b58-3aeaf393f7c3",
   "metadata": {
    "tags": []
   },
   "source": [
    "## Data Loading"
   ]
  },
  {
   "cell_type": "markdown",
   "id": "992d63f3-0d2f-4c49-94eb-ff2fe1d347ba",
   "metadata": {
    "tags": []
   },
   "source": [
    "### NCCIS Data"
   ]
  },
  {
   "cell_type": "code",
   "execution_count": null,
   "id": "4ad64822-b7f5-4494-b456-7f36de8f2d7b",
   "metadata": {},
   "outputs": [],
   "source": [
    "# Define the SQL query to retrieve the information from the prepared nccis table\n",
    "# Activity codes 110, 120, 130, 140 and 150 which signify those who have not yet reached the compulsory school leaving age were excluded\n",
    "# It also restrict data to young NEET with Age at the start of academic year to 16 and 17\n",
    "nccis = \"\"\"\n",
    "SELECT *\n",
    "FROM `yhcr-prd-phm-bia-core.CB_2166.wide_format_NEET_final`\n",
    "\"\"\""
   ]
  },
  {
   "cell_type": "code",
   "execution_count": null,
   "id": "8f3fde05-822a-42a4-aae8-64b0cdadddf1",
   "metadata": {},
   "outputs": [],
   "source": [
    "# Execute the query and retrieve the result into a DataFrame\n",
    "nccis_df = pdg.read_gbq(nccis, dialect='standard')\n",
    "\n",
    "# Display the result\n",
    "nccis_df"
   ]
  },
  {
   "cell_type": "markdown",
   "id": "6f5a892f-1134-4d25-94b3-3fd55eeecb08",
   "metadata": {
    "tags": []
   },
   "source": [
    "### Congenital Heart Diseases Data"
   ]
  },
  {
   "cell_type": "code",
   "execution_count": null,
   "id": "242feb21-89f8-4863-8951-34caab794d4d",
   "metadata": {},
   "outputs": [],
   "source": [
    "# Define the SQL query to retrieve the congenital heart diseases (chd) information from the primary healthcare data\n",
    "chd = \"\"\"\n",
    "SELECT DISTINCT *\n",
    "FROM `yhcr-prd-phm-bia-core.CB_MYSPACE_FO.CongenitalAnomaliesCHD`\n",
    "\"\"\""
   ]
  },
  {
   "cell_type": "code",
   "execution_count": null,
   "id": "1379f54e-5d6d-4ea6-a447-d5ee8eba7fec",
   "metadata": {},
   "outputs": [],
   "source": [
    "# Execute the query and retrieve the result into a DataFrame\n",
    "chd_df = pdg.read_gbq(chd, dialect='standard')\n",
    "\n",
    "# Display the result\n",
    "chd_df"
   ]
  },
  {
   "cell_type": "markdown",
   "id": "2b329d26-5a48-415b-822c-c69596759361",
   "metadata": {
    "tags": []
   },
   "source": [
    "## Data Cleaning"
   ]
  },
  {
   "cell_type": "markdown",
   "id": "9daa85c2-34fb-40c3-8841-a2bc0654dc32",
   "metadata": {
    "tags": []
   },
   "source": [
    "### NCCIS Data"
   ]
  },
  {
   "cell_type": "code",
   "execution_count": null,
   "id": "47098a1a-926e-401f-8f5b-11a7f5c9ee2e",
   "metadata": {},
   "outputs": [],
   "source": [
    "## Modify the nccis data to fit purpose\n",
    "nccis_df.info()"
   ]
  },
  {
   "cell_type": "code",
   "execution_count": null,
   "id": "0e2106da-bb8e-4781-877f-7643b813b9a7",
   "metadata": {},
   "outputs": [],
   "source": [
    "# Rename the specific column names to follow a good naming convention\n",
    "column_mapping = {\n",
    "    'majority_LSOA_15_age': 'lsoa_code',\n",
    "    'AcademicYearAge15to16': 'academic_year_age_15',\n",
    "    'LSOA_name': 'lsoa_name',\n",
    "    'Bradford_YN': 'home_lsoa_in_bradford',\n",
    "    'ever_NEET': 'ever_neet_status',\n",
    "    'Persistent_NEET_YN_over_4months': 'persistent_neet_status',\n",
    "    'Total_neet_months': 'total_neet_obs',\n",
    "    'total_number_of_observations': 'total_observations',\n",
    "    'percentage_time_neet': 'percentage_neet_obs',\n",
    "    'NumberOfMonthsUnknown': 'unknown_observation'\n",
    "}\n",
    "\n",
    "# Rename the columns\n",
    "nccis_df.rename(columns=column_mapping, inplace=True)\n",
    "\n",
    "# Display the result\n",
    "nccis_df.info()"
   ]
  },
  {
   "cell_type": "code",
   "execution_count": null,
   "id": "6e72e4c1-3aba-43e9-abba-f0d3b5debebb",
   "metadata": {},
   "outputs": [],
   "source": [
    "# Based on instances where a person is present multiple responses to some attributes\n",
    "nccis_duplicates = nccis_df.duplicated().sum()\n",
    "\n",
    "# Display the result\n",
    "print(f\"Number of duplicates: {nccis_duplicates}\")"
   ]
  },
  {
   "cell_type": "code",
   "execution_count": null,
   "id": "dfdb43fe-d777-4e6e-83a8-5950591587a3",
   "metadata": {},
   "outputs": [],
   "source": [
    "# Save dataframe to CSV file\n",
    "csv_filename = \"nccis_cleaned.csv\"\n",
    "\n",
    "# Combine the path and filename\n",
    "csv_filepath = os.path.join(interim_data, csv_filename)\n",
    "\n",
    "# Save the DataFrame to CSV\n",
    "nccis_df.to_csv(csv_filepath, index=False)\n",
    "print(f\"DataFrame saved to: {csv_filepath}\")"
   ]
  },
  {
   "cell_type": "markdown",
   "id": "cae5d17c-537a-4a57-b371-5eab10968e76",
   "metadata": {
    "tags": []
   },
   "source": [
    "## Feature Engineering"
   ]
  },
  {
   "cell_type": "markdown",
   "id": "6cb8fc22-aa6e-4531-b276-60c5107269a9",
   "metadata": {
    "tags": []
   },
   "source": [
    "### LSOAs and their Geometry Attributes"
   ]
  },
  {
   "cell_type": "code",
   "execution_count": null,
   "id": "0ad00758-ac19-4815-8776-6112f79d4592",
   "metadata": {},
   "outputs": [],
   "source": [
    "# Define the SQL query to lookup for geometry attributes of all lsoa \n",
    "# Use Well-Known Text (WKT) to text represent the geometry of the lsoas\n",
    "lsoa_general=\"\"\"\n",
    "SELECT\n",
    "    a.LSOA_code AS lsoa_code,\n",
    "    ST_X(a.lat_long) AS longitude,\n",
    "    ST_Y(a.lat_long) AS latitude,\n",
    "    ST_AsText(a.geometry) AS geometry,\n",
    "    b.WD15CD AS ward_code,\n",
    "    b.WD15NM AS ward_name,\n",
    "    b.LAD15CD AS local_authority_code,\n",
    "    b.LAD15NM AS local_authority_name,\n",
    "    b.FID\n",
    "FROM `yhcr-prd-phm-bia-core.CB_LOOKUPS.tbl_lsoa_boundaries` a\n",
    "JOIN `yhcr-prd-phm-bia-core.CB_LOOKUPS.tbl_LSOA_to_Ward` b\n",
    "ON a.LSOA_code = b.LSOA11CD\n",
    "\"\"\""
   ]
  },
  {
   "cell_type": "code",
   "execution_count": null,
   "id": "3195d3e6-25d0-4e21-8f23-8f944a38e704",
   "metadata": {},
   "outputs": [],
   "source": [
    "# Execute the query and retrieve the result into a DataFrame\n",
    "lsoa_general_df = pdg.read_gbq(lsoa_general, dialect='standard')\n",
    "\n",
    "# Display the result\n",
    "lsoa_general_df"
   ]
  },
  {
   "cell_type": "markdown",
   "id": "958619f7-07c5-4856-97e7-6c3957ca077f",
   "metadata": {},
   "source": [
    "### Schools"
   ]
  },
  {
   "cell_type": "code",
   "execution_count": null,
   "id": "f42067ff-6813-4385-8f50-3049422848e6",
   "metadata": {},
   "outputs": [],
   "source": [
    "# Define the SQL query to load the data of schools in bradford\n",
    "schools=\"\"\"\n",
    "SELECT\n",
    "    LA__code_ AS la_code,\n",
    "    EstablishmentNumber AS estab_number,\n",
    "    EstablishmentName AS estab_name,\n",
    "    EstablishmentStatus__name_ AS estab_status,\n",
    "    LSOA__name_ AS school_lsoa_name,\n",
    "    LSOA__code_ AS school_lsoa_code,\n",
    "    OpenDate AS school_open_date,\n",
    "    CloseDate AS school_close_date\n",
    "FROM \n",
    "    `yhcr-prd-phm-bia-core.CB_MYSPACE_FO.BradfordAllSchools`\n",
    "WHERE \n",
    "    EstablishmentNumber IS NOT NULL \n",
    "    #AND (CloseDate IS NULL OR CloseDate >= '2010-08-31')\n",
    "    #AND (OpenDate IS NULL OR OpenDate <= '2018-09-01')\n",
    "\"\"\""
   ]
  },
  {
   "cell_type": "code",
   "execution_count": null,
   "id": "3f775402-a8b7-44fe-88cd-8c1a93c155b9",
   "metadata": {},
   "outputs": [],
   "source": [
    "# Execute the query and retrieve the result into a DataFrame\n",
    "schools_df = pdg.read_gbq(schools, dialect='standard')\n",
    "\n",
    "# Display the result\n",
    "schools_df"
   ]
  },
  {
   "cell_type": "code",
   "execution_count": null,
   "id": "ab05cba0-0614-4a55-afed-28c4932849aa",
   "metadata": {
    "tags": []
   },
   "outputs": [],
   "source": [
    "# Create a mapping dictionary to anonymize school names\n",
    "school_mapping = {}\n",
    "for estab_name in schools_df['estab_name'].unique():\n",
    "    code = ''.join(random.choices(string.ascii_uppercase + string.digits, k=3))\n",
    "    school_mapping[estab_name] = code\n",
    "    \n",
    "# Replace school names with codes in schools_df\n",
    "schools_df['school_code'] = schools_df['estab_name'].map(school_mapping)"
   ]
  },
  {
   "cell_type": "code",
   "execution_count": null,
   "id": "13686c64-502a-4d21-acca-9a6815560744",
   "metadata": {},
   "outputs": [],
   "source": [
    "# Drop the 'estab_name' column from schools_df\n",
    "schools_df.drop(columns=['estab_name'], inplace=True)"
   ]
  },
  {
   "cell_type": "code",
   "execution_count": null,
   "id": "73d18891-d520-462a-ab3a-affe968fa7e7",
   "metadata": {},
   "outputs": [],
   "source": [
    "# Display the result\n",
    "schools_df"
   ]
  },
  {
   "cell_type": "markdown",
   "id": "4b131fb1-e530-41c1-8fba-e22d45389079",
   "metadata": {},
   "source": [
    "### Other Covariate Features"
   ]
  },
  {
   "cell_type": "code",
   "execution_count": null,
   "id": "94a67b63-0e07-4b74-afab-715f82f481a6",
   "metadata": {},
   "outputs": [],
   "source": [
    "# Define the SQL query to retrieve the information from the other covariates table\n",
    "other_covariates=\"\"\"\n",
    "SELECT *\n",
    "FROM `yhcr-prd-phm-bia-core.CB_MYSPACE_FO.OtherCovariates`\n",
    "\"\"\""
   ]
  },
  {
   "cell_type": "code",
   "execution_count": null,
   "id": "baef4cd4-3cf7-458f-a5b8-14427edf2bf4",
   "metadata": {},
   "outputs": [],
   "source": [
    "# Execute the query and retrieve the result into a DataFrame\n",
    "other_covariates_df = pdg.read_gbq(other_covariates, dialect='standard')\n",
    "\n",
    "# Display the result\n",
    "other_covariates_df"
   ]
  },
  {
   "cell_type": "code",
   "execution_count": null,
   "id": "55bd6a08-2c96-4c8b-9647-1d50315701b4",
   "metadata": {},
   "outputs": [],
   "source": [
    "# Get unique values of the 'ethnicity' column along with their counts\n",
    "ethnic_counts = other_covariates_df['ethnicity'].value_counts()\n",
    "\n",
    "# Display the result\n",
    "ethnic_counts"
   ]
  },
  {
   "cell_type": "code",
   "execution_count": null,
   "id": "62ffc988-38bb-40c3-b7cf-096d860a8f11",
   "metadata": {},
   "outputs": [],
   "source": [
    "# Mapping the 'ethnicity' column with the desired output\n",
    "ethnicity_mapping = {\n",
    "    'White: English or Welsh or Scottish or Northern Irish or British - England and Wales ethnic category 2011 census': 'White: English or Welsh or Scottish or Northern Irish or British',\n",
    "    'Unknown/Refuse to say': 'Unknown/Refuse to say',\n",
    "    'Asian or Asian British: Pakistani - England and Wales ethnic category 2011 census': 'Asian or Asian British: Pakistani',\n",
    "    'White:Any other White background': 'White: Any other White background',\n",
    "    'Asian or Asian British: Bangladeshi - England and Wales ethnic category 2011 census': 'Asian or Asian British: Bangladeshi',\n",
    "    'Asian or Asian British: any other Asian background - England and Wales ethnic category 2011 census': 'Asian or Asian British: any other Asian background',\n",
    "    'Asian or Asian British: Indian - England and Wales ethnic category 2011 census': 'Asian or Asian British: Indian',\n",
    "    'Other ethnic group: any other ethnic group - England and Wales ethnic category 2011 census': 'Other ethnic group: any other ethnic group',\n",
    "    'Black or African or Caribbean or Black British: African - England and Wales ethnic category 2011 census': 'Black or African or Caribbean or Black British: African',\n",
    "    'Mixed multiple ethnic groups: any other Mixed or multiple ethnic background - England and Wales ethnic category 2011 census': 'Mixed multiple ethnic groups: any other Mixed or multiple ethnic background',    \n",
    "    'Mixed multiple ethnic groups: White and Black Caribbean - England and Wales ethnic category 2011 census': 'Mixed multiple ethnic groups: White and Black Caribbean',\n",
    "    'Black or African or Caribbean or Black British: Caribbean - England and Wales ethnic category 2011 census': 'Black or African or Caribbean or Black British: Caribbean',\n",
    "    'Black or African or Caribbean or Black British: other Black or African or Caribbean background - England and Wales ethnic category 2011 census' : 'Black or African or Caribbean or Black British: other Black or African or Caribbean background',\n",
    "    'Mixed multiple ethnic groups: White and Black African - England and Wales ethnic category 2011 census': 'Mixed multiple ethnic groups: White and Black African',\n",
    "    'Asian or Asian British: Chinese - England and Wales ethnic category 2011 census': 'Asian or Asian British: Chinese',\n",
    "    'White: Irish - England and Wales ethnic category 2011 census': 'White: Irish',\n",
    "    'Other ethnic group: Arab - England and Wales ethnic category 2011 census': 'Other ethnic group: Arab',\n",
    "    'White: Gypsy or Irish Traveller - England and Wales ethnic category 2011 census': 'White: Gypsy or Irish Traveller'                                               \n",
    "}\n",
    "\n",
    "# Replace using the mapped values\n",
    "other_covariates_df['ethnicity'] = other_covariates_df['ethnicity'].replace(ethnicity_mapping)\n",
    "\n",
    "# Produce the outcome to confirm the modification\n",
    "ethnic_counts = other_covariates_df['ethnicity'].value_counts()\n",
    "\n",
    "# Display the result\n",
    "ethnic_counts"
   ]
  },
  {
   "cell_type": "code",
   "execution_count": null,
   "id": "830cf462-bb5a-43fa-a7bb-015a29825563",
   "metadata": {},
   "outputs": [],
   "source": [
    "# Ensure that the other_covariates_df are strictly  those in the nccis_df\n",
    "other_covariates_df = pd.merge(nccis_df[['person_id']], other_covariates_df, on='person_id', how='left')\n",
    "\n",
    "# Display the result\n",
    "other_covariates_df"
   ]
  },
  {
   "cell_type": "code",
   "execution_count": null,
   "id": "4b61e64c-2c1b-4ba6-956c-5c9d34f2497f",
   "metadata": {},
   "outputs": [],
   "source": [
    "# Save dataframe to CSV file\n",
    "csv_filename = \"other_covariates.csv\"\n",
    "\n",
    "# Combine the path and filename\n",
    "csv_filepath = os.path.join(processed_data, csv_filename)\n",
    "\n",
    "# Save the DataFrame to CSV\n",
    "other_covariates_df.to_csv(csv_filepath, index=False)\n",
    "print(f\"DataFrame saved to: {csv_filepath}\")"
   ]
  },
  {
   "cell_type": "markdown",
   "id": "0352cb4b-e0a2-4254-8679-f9fe6159ca02",
   "metadata": {
    "tags": []
   },
   "source": [
    "## NEET Summary Table"
   ]
  },
  {
   "cell_type": "code",
   "execution_count": null,
   "id": "cf9b3a54-a58a-44fd-adeb-f9064764a01a",
   "metadata": {},
   "outputs": [],
   "source": [
    "# Create the neet_summary table by merging the nccis_df with other_covariates_df and school_df\n",
    "neet_summary_df = pd.merge(nccis_df, lsoa_general_df, on='lsoa_code', how='left')\n",
    "neet_summary_df = pd.merge(neet_summary_df, other_covariates_df, on='person_id', how='left')\n",
    "neet_summary_df = pd.merge(neet_summary_df, schools_df, left_on='estab_at_age_15', right_on='estab_number', how='left')\n",
    "\n",
    "# Display the merged DataFrame\n",
    "neet_summary_df"
   ]
  },
  {
   "cell_type": "code",
   "execution_count": null,
   "id": "36090ef8-924e-4565-ae25-0f2dd40feb9d",
   "metadata": {},
   "outputs": [],
   "source": [
    "# Aggregate and arrange neet_summary_df accordingly\n",
    "neet_summary_df = neet_summary_df.groupby('person_id').agg(\n",
    "    date_of_birth=('date_of_birth', 'first'),\n",
    "    majority_gender=('majority_gender', 'first'),\n",
    "    academic_year_age_15=('academic_year_age_15', 'first'),\n",
    "    academic_years=('academic_year', lambda x: ';'.join(sorted(set(x)))),\n",
    "    ever_neet_status=('ever_neet_status', 'first'),\n",
    "    persistent_neet_status=('persistent_neet_status', 'first'),\n",
    "    total_neet_obs=('total_neet_obs', 'first'),\n",
    "    unknown_observation=('unknown_observation', 'first'),\n",
    "    total_observations=('total_observations', 'first'),\n",
    "    custody_offender_yn=('custody_offender_yn', lambda x: any(x)),\n",
    "    special_educational_needs=('special_educational_needs', lambda x: any(x)),\n",
    "    learning_disability=('learning_disability', lambda x: any(x)),\n",
    "    estab_at_age_15=('estab_at_age_15', 'first'),\n",
    "    la_estab_at_age_15=('la_estab_at_age_15', 'first'),\n",
    "    school_code=('school_code', 'first'),\n",
    "    school_status=('estab_status', 'first'),\n",
    "    school_lsoa_name=('school_lsoa_name', 'first'),\n",
    "    school_open_date=('school_open_date', 'first'),\n",
    "    school_close_date=('school_close_date', 'first'), \n",
    "    longitude=('longitude', 'first'),\n",
    "    latitude=('latitude', 'first'),\n",
    "    lat_long=('lat_long', 'first'),\n",
    "    lsoa_code=('lsoa_code', 'first'),\n",
    "    lsoa_name=('lsoa_name', 'first'),\n",
    "    home_lsoa_in_bradford=('home_lsoa_in_bradford', 'first'),\n",
    "    geometry=('geometry', 'first'),\n",
    "    ward_code=('ward_code', 'first'),\n",
    "    ward_name=('ward_name', 'first'),\n",
    "    la_code=('local_authority_code', 'first'),\n",
    "    la_name=('local_authority_name', 'first')  \n",
    ").reset_index()\n",
    "\n",
    "# Display the resulting DataFrame\n",
    "neet_summary_df"
   ]
  },
  {
   "cell_type": "code",
   "execution_count": null,
   "id": "02df73c2-cc95-4ddf-80ec-fd16ba217e7f",
   "metadata": {},
   "outputs": [],
   "source": [
    "# Save dataframe to CSV file\n",
    "csv_filename = \"neet_summary.csv\"\n",
    "\n",
    "# Combine the path and filename\n",
    "csv_filepath = os.path.join(processed_data, csv_filename)\n",
    "\n",
    "# Save the DataFrame to CSV\n",
    "neet_summary_df.to_csv(csv_filepath, index=False)\n",
    "print(f\"DataFrame saved to: {csv_filepath}\")"
   ]
  },
  {
   "cell_type": "markdown",
   "id": "28c602f2-6089-4338-87ac-9f3d4bd68363",
   "metadata": {
    "tags": []
   },
   "source": [
    "## NEET Congenital Table"
   ]
  },
  {
   "cell_type": "code",
   "execution_count": null,
   "id": "7703634d-5a56-47b9-b029-35c52988c853",
   "metadata": {},
   "outputs": [],
   "source": [
    "# Create the neet_chd_df by merging the neet_summary_df with the chd_df\n",
    "neet_chd_df = pd.merge(neet_summary_df, chd_df, on='person_id', how='left')\n",
    "\n",
    "# Display the merged DataFrame\n",
    "neet_chd_df"
   ]
  },
  {
   "cell_type": "code",
   "execution_count": null,
   "id": "807f0dec-3b3d-443d-9725-2eee351713ff",
   "metadata": {},
   "outputs": [],
   "source": [
    "# Create a new column 'chd_status' based on the condition\n",
    "neet_chd_df['chd_status'] = neet_chd_df['snomedcode'].notnull()\n",
    "\n",
    "# Display the resulted DataFrame\n",
    "neet_chd_df"
   ]
  },
  {
   "cell_type": "code",
   "execution_count": null,
   "id": "3c8ee172-35f2-433b-9b1b-b54673c585f9",
   "metadata": {},
   "outputs": [],
   "source": [
    "# Aggregate the neet_chd_df to join the chd_name and obtain the first output for other columns\n",
    "aggregation_rules = {\n",
    "    'date_of_birth': 'first',\n",
    "    'majority_gender': 'first',\n",
    "    'academic_year_age_15': 'first',\n",
    "    'academic_years': 'first',\n",
    "    'ever_neet_status': 'first',\n",
    "    'persistent_neet_status': 'first',\n",
    "    'total_neet_obs': 'first',\n",
    "    'unknown_observation': 'first',\n",
    "    'custody_offender_yn': 'first',\n",
    "    'special_educational_needs': 'first',\n",
    "    'learning_disability': 'first',\n",
    "    'estab_at_age_15': 'first',\n",
    "    'la_estab_at_age_15': 'first',\n",
    "    'school_code': 'first',\n",
    "    'school_status': 'first',\n",
    "    'school_lsoa_name': 'first',\n",
    "    'school_open_date': 'first',\n",
    "    'school_close_date': 'first',\n",
    "    'longitude': 'first',\n",
    "    'latitude': 'first',\n",
    "    'lat_long': 'first',\n",
    "    'lsoa_code': 'first',\n",
    "    'lsoa_name': 'first',\n",
    "    'home_lsoa_in_bradford': 'first',\n",
    "    'geometry': 'first',\n",
    "    'ward_code': 'first',\n",
    "    'ward_name': 'first',\n",
    "    'la_code': 'first',\n",
    "    'la_name': 'first',\n",
    "    'snomedcode': 'first',\n",
    "    'chd_name': lambda x: ', '.join(x.astype(str).unique()),  # Combining non-null values of 'congenital_hd_name'\n",
    "    'chd_status': 'first'\n",
    "}\n",
    "\n",
    "# Display the aggregated DataFrame\n",
    "neet_chd_df = neet_chd_df.groupby('person_id').agg(aggregation_rules).reset_index()\n",
    "neet_chd_df"
   ]
  },
  {
   "cell_type": "code",
   "execution_count": null,
   "id": "21628f1a-126b-4cfa-afa7-ce2d20510aa5",
   "metadata": {},
   "outputs": [],
   "source": [
    "# Save dataframe to CSV file\n",
    "csv_filename = \"neet_chd.csv\"\n",
    "\n",
    "# Combine the path and filename\n",
    "csv_filepath = os.path.join(processed_data, csv_filename)\n",
    "\n",
    "# Save the DataFrame to CSV\n",
    "neet_chd_df.to_csv(csv_filepath, index=False)\n",
    "print(f\"DataFrame saved to: {csv_filepath}\")"
   ]
  },
  {
   "cell_type": "code",
   "execution_count": null,
   "id": "4cd10c11-7c48-447c-85ae-b02379a63fae",
   "metadata": {},
   "outputs": [],
   "source": []
  }
 ],
 "metadata": {
  "environment": {
   "kernel": "python3",
   "name": ".m112",
   "type": "gcloud",
   "uri": "gcr.io/deeplearning-platform-release/:m112"
  },
  "kernelspec": {
   "display_name": "Python 3",
   "language": "python",
   "name": "python3"
  },
  "language_info": {
   "codemirror_mode": {
    "name": "ipython",
    "version": 3
   },
   "file_extension": ".py",
   "mimetype": "text/x-python",
   "name": "python",
   "nbconvert_exporter": "python",
   "pygments_lexer": "ipython3",
   "version": "3.7.12"
  }
 },
 "nbformat": 4,
 "nbformat_minor": 5
}
